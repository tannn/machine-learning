{
 "cells": [
  {
   "cell_type": "markdown",
   "metadata": {},
   "source": [
    "Transfered from python script after running on data. Some further cleaning. "
   ]
  },
  {
   "cell_type": "code",
   "execution_count": null,
   "metadata": {},
   "outputs": [],
   "source": [
    "import re\n",
    "import pandas as pd\n",
    "\n",
    "df = pd.read_csv('tweets.csv', delimiter=\",\")\n",
    "deleted = 0\n",
    "count = 0\n",
    "\n",
    "for index, row in df.iterrows():\n",
    "    text = str(row['tweets'])\n",
    "\n",
    "    p = re.compile(r'ENGLISH TRANSLATION:?', re.IGNORECASE)\n",
    "    m = re.compile(r'RT', re.IGNORECASE)\n",
    "    l = re.compile(r'https?.*')\n",
    "    z = re.compile(r'[^a-zA-Z0-9\\\\\\/\\|\\*\\.\\?\\!\\@\\#\\$\\%\\^\\&\\*\\(\\)\\_\\-\\+\\=\\:\\;\\\"\\'\\{\\}\\[\\]\\, ]') #not quite working\n",
    "\n",
    "    replace_n = p.sub('', text)\n",
    "    replace_n_r = m.sub('', replace_n)\n",
    "    replace_n_r_l = l.sub('', replace_n_r)\n",
    "    final = z.sub('', replace_n_r_l)\n",
    "    print(final)\n",
    "\n",
    "    if final == \"nan\" or not final:\n",
    "        df.drop(index, inplace=True)\n",
    "        deleted += 1\n",
    "    else:\n",
    "        df.at[index,'tweets'] = final\n",
    "        count += 1\n",
    "\n",
    "    label = row['label']\n",
    "    df.at[index,'label'] = 1\n",
    "\n",
    "df.to_csv(\"modified-tweets.csv\")\n",
    "print(\"deleted\",deleted)\n",
    "print(\"changed\",count)"
   ]
  }
 ],
 "metadata": {
  "kernelspec": {
   "display_name": "Python 3",
   "language": "python",
   "name": "python3"
  },
  "language_info": {
   "codemirror_mode": {
    "name": "ipython",
    "version": 3
   },
   "file_extension": ".py",
   "mimetype": "text/x-python",
   "name": "python",
   "nbconvert_exporter": "python",
   "pygments_lexer": "ipython3",
   "version": "3.7.0"
  }
 },
 "nbformat": 4,
 "nbformat_minor": 2
}
