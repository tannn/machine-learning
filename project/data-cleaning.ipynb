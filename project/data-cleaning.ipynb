{
 "cells": [
  {
   "cell_type": "markdown",
   "metadata": {},
   "source": [
    "Clean text in data. Transfered from a python file after running python script on data. Remove special characters and links"
   ]
  },
  {
   "cell_type": "code",
   "execution_count": null,
   "metadata": {},
   "outputs": [],
   "source": [
    "import re\n",
    "import pandas as pd\n",
    "\n",
    "df = pd.read_csv('FILE', delimiter=\",\")\n",
    "deleted = 0\n",
    "count = 0\n",
    "\n",
    "for index, row in df.iterrows():\n",
    "    text = str(row['Text'])\n",
    "    if text[0:2] == \"b'\" or text[0:2] == 'b\"':\n",
    "        text = text[2:-1]\n",
    "\n",
    "    p = re.compile(r'\\\\n', re.IGNORECASE)\n",
    "    m = re.compile(r'\\\\x..', re.IGNORECASE)\n",
    "    l = re.compile(r'https:\\/\\/t\\.co\\/[A-Za-z0-9]{10}')\n",
    "\n",
    "    replace_n = p.sub('', text)\n",
    "    replace_n_r = m.sub('', replace_n)\n",
    "    final = l.sub('', replace_n_r)\n",
    "    print(final)\n",
    "\n",
    "    if final == \"nan\" or not final:\n",
    "        df.drop(index, inplace=True)\n",
    "        deleted += 1\n",
    "    else:\n",
    "        df.at[index,'Text'] = final\n",
    "        count += 1\n",
    "\n",
    "df.to_csv(\"NEW FILE\")\n",
    "print(\"deleted\",deleted)\n",
    "print(\"changed\",count)"
   ]
  }
 ],
 "metadata": {
  "kernelspec": {
   "display_name": "Python 3",
   "language": "python",
   "name": "python3"
  },
  "language_info": {
   "codemirror_mode": {
    "name": "ipython",
    "version": 3
   },
   "file_extension": ".py",
   "mimetype": "text/x-python",
   "name": "python",
   "nbconvert_exporter": "python",
   "pygments_lexer": "ipython3",
   "version": "3.7.0"
  }
 },
 "nbformat": 4,
 "nbformat_minor": 2
}
