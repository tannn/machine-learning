{
 "cells": [
  {
   "cell_type": "markdown",
   "metadata": {},
   "source": [
    "Transfered from python script after running on data. We sped up the process of labeling by flagging only pro-ISIS tweets as 1 and automately filling in the rest of empty value with 0 for not pro-ISIS tweets"
   ]
  },
  {
   "cell_type": "code",
   "execution_count": null,
   "metadata": {},
   "outputs": [],
   "source": [
    "import pandas as pd\n",
    "\n",
    "df = pd.read_csv('labeled_first_half.csv', delimiter=\",\")\n",
    "\n",
    "count = 0\n",
    "# deleted = 0\n",
    "\n",
    "for index, row in df.iterrows():\n",
    "    label = row['Label']\n",
    "    # identifier = row['ID']\n",
    "    text = row['Text']\n",
    "\n",
    "    # if not identifier or identifier == \"nan\":\n",
    "    #   df.drop(index, inplace=True)\n",
    "    # deleted += 1\n",
    "    #   print()\n",
    "    # if text == \"nan\" or not text:\n",
    "    #   df.drop(index, inplace=True)\n",
    "    #   deleted += 1\n",
    "    if label != 0.0 or label != 1.0:\n",
    "        df.at[index,'Label'] = 0\n",
    "    count += 1\n",
    "\n",
    "df.to_csv(\"relabeled_first_half.csv\")\n",
    "# print(\"deleted\",deleted)\n",
    "print(\"changed\",count)"
   ]
  }
 ],
 "metadata": {
  "kernelspec": {
   "display_name": "Python 3",
   "language": "python",
   "name": "python3"
  },
  "language_info": {
   "codemirror_mode": {
    "name": "ipython",
    "version": 3
   },
   "file_extension": ".py",
   "mimetype": "text/x-python",
   "name": "python",
   "nbconvert_exporter": "python",
   "pygments_lexer": "ipython3",
   "version": "3.7.0"
  }
 },
 "nbformat": 4,
 "nbformat_minor": 2
}
