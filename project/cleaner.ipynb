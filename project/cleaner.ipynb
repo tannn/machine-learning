{
 "cells": [
  {
   "cell_type": "markdown",
   "metadata": {},
   "source": [
    "Transfered from python script after running. Filter to get tweets in English only. "
   ]
  },
  {
   "cell_type": "code",
   "execution_count": null,
   "metadata": {},
   "outputs": [],
   "source": [
    "import langid\n",
    "import pandas as pd\n",
    "\n",
    "df = pd.read_csv('FILE', delimiter=\",\")\n",
    "\n",
    "count = 0\n",
    "\n",
    "for index, row in df.iterrows():\n",
    "    text = row['Text']\n",
    "    language = langid.classify(str(text))\n",
    "\n",
    "    # if a different language is detected, drop the whole row\n",
    "    if language[0] != 'en':\n",
    "        print(text)\n",
    "        print(language)\n",
    "        df.drop(index, inplace=True)\n",
    "        count += 1\n",
    "\n",
    "df.to_csv(\"NEW FILE\")\n",
    "print(\"deleted\", count)"
   ]
  }
 ],
 "metadata": {
  "kernelspec": {
   "display_name": "Python 3",
   "language": "python",
   "name": "python3"
  },
  "language_info": {
   "codemirror_mode": {
    "name": "ipython",
    "version": 3
   },
   "file_extension": ".py",
   "mimetype": "text/x-python",
   "name": "python",
   "nbconvert_exporter": "python",
   "pygments_lexer": "ipython3",
   "version": "3.7.0"
  }
 },
 "nbformat": 4,
 "nbformat_minor": 2
}
