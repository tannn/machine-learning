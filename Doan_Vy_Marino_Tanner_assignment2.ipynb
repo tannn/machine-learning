{
 "cells": [
  {
   "cell_type": "code",
   "execution_count": 65,
   "metadata": {},
   "outputs": [],
   "source": [
    "# Inital state probability matrix, given\n",
    "PI = [0.5,0.5]\n",
    "# PI = {'Healthy': 0.5, 'Depressed': 0.5}\n",
    "# state transition probability matrix, given\n",
    "A = [[0.8,0.2],[0.001,0.999]]\n",
    "# A = {\n",
    "#     'Healthy' : {'Healthy': 0.8, 'Depressed': 0.2},\n",
    "#     'Depressed' : {'Healthy': 0.001, 'Depressed': 0.999},\n",
    "# }\n",
    "# Emission or observation probability matrix, given\n",
    "B = [[0.5,0.1,0.3,0.1,0.0],[0.05,0.35,0.2,0.2,0.2]]\n",
    "# B = {\n",
    "#     'Healthy' : {'Movement': 0.5, 'Passive': 0.1, 'Active' : 0.3, 'Texting' : 0.1, 'Access' : 0.0},\n",
    "#     'Depressed' : {'Movement': 0.05, 'Passive': 0.35, 'Active' : 0.2, 'Texting' : 0.2, 'Access' : 0.2},\n",
    "# }\n",
    "\n",
    "# state codes of the observed states, dummy\n",
    "# Observables = [0,1,2,3,4]\n",
    "# Observables = [\"Movement\",\"Passive\",\"Active\",\"Texting\",\"Access\"]\n",
    "#Observables = [\"Movement\", \"Texting\", \"Movement\", \"Texting\"]\n",
    "#states = [\"Healthy\",\"Depressed\"]\n",
    "states = [0, 1]\n",
    "Observables = [0,3,0,3]\n",
    "#Observables = [0,0,2]\n",
    "#Observables = {\"Movement\":0, \"Passive Social\":1, \"Active Social\":2, \"Texting\":3, \"Access Psych Site\":4}"
   ]
  },
  {
   "cell_type": "code",
   "execution_count": 128,
   "metadata": {},
   "outputs": [],
   "source": [
    "PI_2 = [0.5,0.5]\n",
    "A_2 = [[0.7,0.3],[0.3,0.7]]\n",
    "B_2 = [[0.9,0.1],[0.2,0.8]]\n",
    "states = [0,1]\n",
    "Observables_2 = [0,0]"
   ]
  },
  {
   "cell_type": "code",
   "execution_count": 129,
   "metadata": {},
   "outputs": [
    {
     "name": "stdout",
     "output_type": "stream",
     "text": [
      "[[0.45, 0.1]]\n"
     ]
    },
    {
     "data": {
      "text/plain": [
       "array([[0.45  , 0.3105],\n",
       "       [0.1   , 0.041 ]])"
      ]
     },
     "execution_count": 129,
     "metadata": {},
     "output_type": "execute_result"
    }
   ],
   "source": [
    "forward(PI_2,A_2,B_2,Observables_2)"
   ]
  },
  {
   "cell_type": "code",
   "execution_count": 171,
   "metadata": {},
   "outputs": [
    {
     "name": "stdout",
     "output_type": "stream",
     "text": [
      "{0: 0.45, 1: 0.1}\n",
      "C val: \n",
      "2.844950213371266\n"
     ]
    }
   ],
   "source": [
    "normalized, c = forward_normalized(PI_2,A_2,B_2,Observables_2)"
   ]
  },
  {
   "cell_type": "code",
   "execution_count": 172,
   "metadata": {},
   "outputs": [
    {
     "data": {
      "text/plain": [
       "[1.8181818181818181, 2.844950213371266]"
      ]
     },
     "execution_count": 172,
     "metadata": {},
     "output_type": "execute_result"
    }
   ],
   "source": [
    "c"
   ]
  },
  {
   "cell_type": "code",
   "execution_count": 153,
   "metadata": {},
   "outputs": [
    {
     "data": {
      "text/plain": [
       "array([[0.81818182, 0.88335704],\n",
       "       [0.18181818, 0.11664296]])"
      ]
     },
     "execution_count": 153,
     "metadata": {},
     "output_type": "execute_result"
    }
   ],
   "source": [
    "normalized"
   ]
  },
  {
   "cell_type": "code",
   "execution_count": 147,
   "metadata": {},
   "outputs": [
    {
     "data": {
      "text/plain": [
       "-1.6433825684870378"
      ]
     },
     "execution_count": 147,
     "metadata": {},
     "output_type": "execute_result"
    }
   ],
   "source": [
    "evaluation_normalized(c)"
   ]
  },
  {
   "cell_type": "code",
   "execution_count": 137,
   "metadata": {},
   "outputs": [
    {
     "data": {
      "text/plain": [
       "array([[0.69, 1.  ],\n",
       "       [0.41, 1.  ]])"
      ]
     },
     "execution_count": 137,
     "metadata": {},
     "output_type": "execute_result"
    }
   ],
   "source": [
    "backward(PI_2,A_2,B_2,Observables_2)"
   ]
  },
  {
   "cell_type": "markdown",
   "metadata": {},
   "source": [
    "# Filtering"
   ]
  },
  {
   "cell_type": "code",
   "execution_count": 126,
   "metadata": {},
   "outputs": [],
   "source": [
    "import numpy as np \n",
    "from numpy import matrix\n",
    "\n",
    "def forward(PI, A, B, Observables):\n",
    "    alpha_matrix = []\n",
    "    curr = {}\n",
    "    #nex = [0] * len(A)\n",
    "    for i in range (0, len(A)):\n",
    "        curr[i] = PI[i] * B[i][0]\n",
    "    #alpha_matrix.append(curr)\n",
    "    alpha_matrix.append(list(curr.values()))\n",
    "\n",
    "    for t in range (1, len(Observables)):\n",
    "        #nex = [0] * len(A)\n",
    "        nex = {}\n",
    "        for i in range (len(A)):\n",
    "            #for j in range (len(A)):\n",
    "                #nex = alpha_matrix[t-1][j]\n",
    "            t_value = Observables[t]\n",
    "            nex[i] =  sum(curr[j] * A[j][i] * B[i][t_value] for j in range(len(A)))\n",
    "                #print(nex)\n",
    "            #nex[i] = nex[i] * B[i][t_value] \n",
    "        alpha_matrix.append(list(nex.values()))\n",
    "        #alpha.insert(t,list(nex.values()))\n",
    "\n",
    "        curr = nex.copy()\n",
    "            \n",
    "    alpha_matrix = np.transpose(alpha_matrix)\n",
    "\n",
    "    return alpha_matrix"
   ]
  },
  {
   "cell_type": "markdown",
   "metadata": {},
   "source": [
    "def forward_normalized(PI, A, B, Observables):\n",
    "    alpha = forward(PI, A, B, Observables)\n",
    "    c = [0] * len(Observables)\n",
    "    for i,i_value in enumerate(alpha):\n",
    "        for j,j_value in enumerate(i_value):\n",
    "            c[j] += i_value[j]\n",
    "        c[j] = 1/c[j]\n",
    "            \n",
    "    \n",
    "    for i in range(len(alpha)):\n",
    "        for j in range(len(alpha[i])):\n",
    "            alpha[i][j] = alpha[i][j] * c[j]\n",
    "    \n",
    "    return alpha, c"
   ]
  },
  {
   "cell_type": "code",
   "execution_count": 170,
   "metadata": {},
   "outputs": [],
   "source": [
    "def forward_normalized(PI, A, B, Observables):\n",
    "    alpha_matrix = []\n",
    "    curr = {}\n",
    "    c = {}\n",
    "    for i in range (0, len(A)):\n",
    "        curr[i] = PI[i] * B[i][0]\n",
    "        \n",
    "    #alpha_matrix.insert(list(curr.values()))\n",
    "    alpha_matrix.append(list(curr.values()))\n",
    "    c[0] = sum(alpha_matrix[0][i] for i in range(len(curr)))\n",
    "\n",
    "    \n",
    "    c[0] = 1/c[0]\n",
    "    for i in range (0, len(A)):\n",
    "        alpha_matrix[0][i] = c[0] * alpha_matrix[0][i]\n",
    "    \n",
    "    for t in range (1, len(Observables)):\n",
    "        nex = {}\n",
    "        c_val = 0\n",
    "        for i in range (0, len(A)):\n",
    "                #nex = alpha_matrix[t-1][j]\n",
    "            t_value = Observables[t]\n",
    "            nex[i] =  sum(curr[j] * A[j][i] * B[i][t_value] for j in range(len(A)))\n",
    "        c[t] = sum(nex[k] for k in range(len(nex)))\n",
    "        \n",
    "            \n",
    "        c[t] = 1/c[t]\n",
    "        for i in range (0,len(A)):\n",
    "            nex[i] = c[t] * nex[i]\n",
    "        alpha_matrix.append(list(nex.values()))\n",
    "        curr = nex\n",
    "        \n",
    "        \n",
    "            \n",
    "    alpha_matrix = np.transpose(alpha_matrix)\n",
    "\n",
    "    return alpha_matrix,list(c.values())"
   ]
  },
  {
   "cell_type": "markdown",
   "metadata": {},
   "source": [
    "# Evaluation"
   ]
  },
  {
   "cell_type": "code",
   "execution_count": 141,
   "metadata": {},
   "outputs": [],
   "source": [
    "def evaluation_unnormalized(alpha):\n",
    "    probability = 0\n",
    "    for i in range(len(alpha)):\n",
    "        for j in range(0, len(alpha[i])):\n",
    "             probability += alpha[i][j]        \n",
    "    return probability"
   ]
  },
  {
   "cell_type": "code",
   "execution_count": 142,
   "metadata": {},
   "outputs": [],
   "source": [
    "import math\n",
    "def evaluation_normalized(c):\n",
    "    probability = -1 * sum(math.log(i) for i in c)\n",
    "    return probability"
   ]
  },
  {
   "cell_type": "markdown",
   "metadata": {},
   "source": [
    "# Backward Probability"
   ]
  },
  {
   "cell_type": "code",
   "execution_count": 136,
   "metadata": {},
   "outputs": [],
   "source": [
    "def backward(PI, A, B, Observables):\n",
    "    \n",
    "    beta = []\n",
    "    b_prev = {}\n",
    "    for i, value in enumerate(reversed(Observables)):\n",
    "        b_curr = {}\n",
    "        for state in states:\n",
    "            if i == 0:\n",
    "                b_curr[state] = 1 \n",
    "            else:\n",
    "                b_curr[state] = sum(A[state][l] * B[l][value] * b_prev[l] for l in states)\n",
    "\n",
    "        beta.insert(0,list(b_curr.values()))\n",
    "        b_prev = b_curr\n",
    "\n",
    "    #p_beta = sum(PI[l] * B[l][Observables[0]] * b_curr[l] for l in states)\n",
    "    \n",
    "    return np.transpose(beta) #no of initial states * length of observation sequence"
   ]
  },
  {
   "cell_type": "code",
   "execution_count": 138,
   "metadata": {},
   "outputs": [],
   "source": [
    "def backward_normalized(PI, A, B, Observables):\n",
    "    alpha,c = forward_normalized(PI, A, B, Observables)\n",
    "    beta = backward(PI, A, B, Observables)\n",
    "\n",
    "\n",
    "    for i in range(len(beta)):\n",
    "        for j in range(len(beta[i])):\n",
    "            beta[i][j] = beta[i][j] * (1/c[j])\n",
    "            \n",
    "    return beta"
   ]
  },
  {
   "cell_type": "code",
   "execution_count": 139,
   "metadata": {},
   "outputs": [
    {
     "data": {
      "text/plain": [
       "array([[0.04125   , 0.04624375],\n",
       "       [0.09618125, 0.04624375]])"
      ]
     },
     "execution_count": 139,
     "metadata": {},
     "output_type": "execute_result"
    }
   ],
   "source": [
    "backward_normalized(PI, A, B, Observables)"
   ]
  },
  {
   "cell_type": "markdown",
   "metadata": {},
   "source": [
    "# Smoothing by Forward-Backward Algorithm"
   ]
  },
  {
   "cell_type": "code",
   "execution_count": 88,
   "metadata": {},
   "outputs": [],
   "source": [
    "def smoothed_probability(alpha, beta, noOfStates, noOfTimeSteps):\n",
    "    matrix = []\n",
    "    for t in range(len(alpha)):\n",
    "        curr = [0] *len(A)\n",
    "        for i in range(len(alpha[t])):\n",
    "            sum_curr = 0\n",
    "            for j in range(len(beta[t])):\n",
    "                sum_curr += alpha[t][j] * beta[t][j]\n",
    "            curr[i] = (alpha[t][i] * beta[t][i]) / sum_curr\n",
    "        matrix.append(curr)  \n",
    "                \n",
    "    return matrix"
   ]
  },
  {
   "cell_type": "code",
   "execution_count": 89,
   "metadata": {},
   "outputs": [
    {
     "data": {
      "text/plain": [
       "[[0.9962860631362895, 0.003713936863710455],\n",
       " [0.49618300053009035, 0.5038169994699098],\n",
       " [0.9035671451814147, 0.09643285481858543],\n",
       " [0.042700999388114926, 0.957299000611885]]"
      ]
     },
     "execution_count": 89,
     "metadata": {},
     "output_type": "execute_result"
    }
   ],
   "source": [
    "smoothed_probability(alpha,beta,len(alpha), len(beta))"
   ]
  },
  {
   "cell_type": "code",
   "execution_count": null,
   "metadata": {},
   "outputs": [],
   "source": []
  }
 ],
 "metadata": {
  "kernelspec": {
   "display_name": "Python 3",
   "language": "python",
   "name": "python3"
  },
  "language_info": {
   "codemirror_mode": {
    "name": "ipython",
    "version": 3
   },
   "file_extension": ".py",
   "mimetype": "text/x-python",
   "name": "python",
   "nbconvert_exporter": "python",
   "pygments_lexer": "ipython3",
   "version": "3.7.0"
  }
 },
 "nbformat": 4,
 "nbformat_minor": 2
}
