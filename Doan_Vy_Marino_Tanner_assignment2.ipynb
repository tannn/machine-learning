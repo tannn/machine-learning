{
 "cells": [
  {
   "cell_type": "code",
   "execution_count": 52,
   "metadata": {},
   "outputs": [],
   "source": [
    "# Inital state probability matrix, given\n",
    "PI = [0.5,0.5]\n",
    "# PI = {'Healthy': 0.5, 'Depressed': 0.5}\n",
    "# state transition probability matrix, given\n",
    "A = [[0.8,0.2],[0.001,0.999]]\n",
    "# A = {\n",
    "#     'Healthy' : {'Healthy': 0.8, 'Depressed': 0.2},\n",
    "#     'Depressed' : {'Healthy': 0.001, 'Depressed': 0.999},\n",
    "# }\n",
    "# Emission or observation probability matrix, given\n",
    "B = [[0.5,0.1,0.3,0.1,0.0],[0.05,0.35,0.2,0.2,0.2]]\n",
    "# B = {\n",
    "#     'Healthy' : {'Movement': 0.5, 'Passive': 0.1, 'Active' : 0.3, 'Texting' : 0.1, 'Access' : 0.0},\n",
    "#     'Depressed' : {'Movement': 0.05, 'Passive': 0.35, 'Active' : 0.2, 'Texting' : 0.2, 'Access' : 0.2},\n",
    "# }\n",
    "\n",
    "# state codes of the observed states, dummy\n",
    "# Observables = [0,1,2,3,4]\n",
    "# Observables = [\"Movement\",\"Passive\",\"Active\",\"Texting\",\"Access\"]\n",
    "#Observables = [\"Movement\", \"Texting\", \"Movement\", \"Texting\"]\n",
    "#states = [\"Healthy\",\"Depressed\"]\n",
    "states = [0, 1]\n",
    "Observables = [0,3,0,3]\n",
    "#Observables = {\"Movement\":0, \"Passive Social\":1, \"Active Social\":2, \"Texting\":3, \"Access Psych Site\":4}"
   ]
  },
  {
   "cell_type": "code",
   "execution_count": 53,
   "metadata": {},
   "outputs": [],
   "source": [
    "rows = [0] * 3"
   ]
  },
  {
   "cell_type": "code",
   "execution_count": 54,
   "metadata": {},
   "outputs": [
    {
     "data": {
      "text/plain": [
       "[0, 0, 0]"
      ]
     },
     "execution_count": 54,
     "metadata": {},
     "output_type": "execute_result"
    }
   ],
   "source": [
    "rows"
   ]
  },
  {
   "cell_type": "code",
   "execution_count": 55,
   "metadata": {},
   "outputs": [],
   "source": [
    "matrix = [rows] * 3"
   ]
  },
  {
   "cell_type": "code",
   "execution_count": 56,
   "metadata": {},
   "outputs": [
    {
     "data": {
      "text/plain": [
       "[[0, 0, 0], [0, 0, 0], [0, 0, 0]]"
      ]
     },
     "execution_count": 56,
     "metadata": {},
     "output_type": "execute_result"
    }
   ],
   "source": [
    "matrix"
   ]
  },
  {
   "cell_type": "markdown",
   "metadata": {},
   "source": [
    "# Filtering"
   ]
  },
  {
   "cell_type": "code",
   "execution_count": 57,
   "metadata": {},
   "outputs": [],
   "source": [
    "import numpy as np \n",
    "from numpy import matrix\n",
    "\n",
    "def forward(PI, A, B, Observables):\n",
    "    #Note: alpha_1(i) = pi_i(b_i)(O_1)\n",
    "    #i.e. alpha_1(i) = PI[i](B[i])(Observables[1])\n",
    "    #dim of alpha_matrix is n_A x n_Observables\n",
    "    rows = [0] * len(Observables)\n",
    "    alpha_matrix = [rows] * len(A)\n",
    "    print(rows)\n",
    "    print(len(A))\n",
    "    print([rows]* len(A))\n",
    "    for t,t_value in enumerate(Observables):\n",
    "        print(t)\n",
    "        for state in states: \n",
    "            if t == 0:\n",
    "                alpha_matrix[state][t] = PI[state] * B[state][t]\n",
    "                print(\"Alpha matrix at row {} column {}: {}\".format(t, state, alpha_matrix[state][t]))\n",
    "                print(alpha_matrix)\n",
    "            else: \n",
    "                #alpha_matrix[state][t] = sum(alpha_matrix[l][t-1] * A[l][t-1] for l in states)  * B[state][value]\n",
    "                for i in range(len(alpha_matrix)):\n",
    "                    value = 0\n",
    "                    for l in states:\n",
    "                        if l == 0:\n",
    "                            value = alpha_matrix[l][t-1] * A[l][i]  \n",
    "                            print(\"Alpha Matrix at row {} column {}: {}\".format(l,str(t-1), alpha_matrix[l][t-1]))\n",
    "                            print(\"State Probability at row {} column {}: {}\".format(l, i, A[l][i]))\n",
    "                        else:\n",
    "                            value = value + alpha_matrix[l][t-1]* A[l][i]\n",
    "                            print(\"Alpha Matrix at row {} column {}: {}\".format(l,str(t-1), alpha_matrix[l][t-1]))\n",
    "                            print(\"State Probability at row {} column {}: {}\".format(l, i, A[l][i]))\n",
    "                    print(\"Observation Probability at row {} column {}: {}\".format(state, t_value, B[state][t_value]))\n",
    "                    value = value * B[state][t_value]\n",
    "                    alpha_matrix[i][t] = value\n",
    "\n",
    "            \n",
    "    print(alpha_matrix)\n",
    "    alpha_matrix = np.array(alpha_matrix).transpose()\n",
    "\n",
    "\n",
    "    return alpha_matrix #(normalized forward probability matrix), c (one-dimensional normalization (scaling) coefficient array)"
   ]
  },
  {
   "cell_type": "code",
   "execution_count": 92,
   "metadata": {},
   "outputs": [],
   "source": [
    "import numpy as np \n",
    "from numpy import matrix\n",
    "\n",
    "def forward(PI, A, B, Observables):\n",
    "    #rows = [0] * len(Observables)\n",
    "    alpha_matrix = []\n",
    "    curr = []\n",
    "    for t,t_value in enumerate(Observables):\n",
    "        nex = [0] * len(A)\n",
    "        for a,a_value in enumerate(A): \n",
    "            if t == 0:\n",
    "                nex[a] = PI[a] * B[a][t_value]\n",
    "            else:\n",
    "                for i in range(len(curr)):\n",
    "                    nex[a] = sum(curr[i]*A[i][l] for l in range(len(A))) * B[a][t_value]\n",
    "            \n",
    "        alpha_matrix.append(nex)\n",
    "        curr = nex\n",
    "        \n",
    "    #alpha_matrix = np.transpose(alpha_matrix)\n",
    "\n",
    "    return alpha_matrix"
   ]
  },
  {
   "cell_type": "code",
   "execution_count": 93,
   "metadata": {},
   "outputs": [
    {
     "data": {
      "text/plain": [
       "[[0.25, 0.025],\n",
       " [0.0025000000000000005, 0.005000000000000001],\n",
       " [0.0025000000000000005, 0.00025000000000000006],\n",
       " [2.5000000000000008e-05, 5.0000000000000016e-05]]"
      ]
     },
     "execution_count": 93,
     "metadata": {},
     "output_type": "execute_result"
    }
   ],
   "source": [
    "forward(PI, A, B, Observables)"
   ]
  },
  {
   "cell_type": "code",
   "execution_count": 94,
   "metadata": {},
   "outputs": [],
   "source": [
    "def forward_normalized(PI, A, B, Observables):\n",
    "    alpha = forward(PI, A, B, Observables)\n",
    "    c = [0] * len(Observables)\n",
    "    for i,i_value in enumerate(alpha):\n",
    "        for j,j_value in enumerate(i_value):\n",
    "            c[j] += i_value[j]\n",
    "    \n",
    "    for i in range(len(alpha)):\n",
    "        for j in range(len(alpha[i])):\n",
    "            alpha[i][j] = alpha[i][j] * c[j]\n",
    "    \n",
    "    return alpha, c"
   ]
  },
  {
   "cell_type": "code",
   "execution_count": 95,
   "metadata": {},
   "outputs": [
    {
     "data": {
      "text/plain": [
       "([[0.06375625, 0.0007575000000000001],\n",
       "  [0.0006375625000000001, 0.00015150000000000005],\n",
       "  [0.0006375625000000001, 7.575000000000003e-06],\n",
       "  [6.375625000000002e-06, 1.5150000000000007e-06]],\n",
       " [0.255025, 0.030300000000000004, 0, 0])"
      ]
     },
     "execution_count": 95,
     "metadata": {},
     "output_type": "execute_result"
    }
   ],
   "source": [
    "forward_normalized(PI, A, B, Observables)"
   ]
  },
  {
   "cell_type": "markdown",
   "metadata": {},
   "source": [
    "# Evaluation"
   ]
  },
  {
   "cell_type": "code",
   "execution_count": 96,
   "metadata": {},
   "outputs": [],
   "source": [
    "def evaluation_unnormalized(alpha):\n",
    "    return #probability"
   ]
  },
  {
   "cell_type": "code",
   "execution_count": 97,
   "metadata": {},
   "outputs": [],
   "source": [
    "def evaluation_normalized(c):\n",
    "    return probability"
   ]
  },
  {
   "cell_type": "markdown",
   "metadata": {},
   "source": [
    "# Backward Probability"
   ]
  },
  {
   "cell_type": "code",
   "execution_count": 98,
   "metadata": {},
   "outputs": [],
   "source": [
    "def backward(PI, A, B, Observables):\n",
    "    \n",
    "    beta = []\n",
    "    b_prev = {}\n",
    "    for i, value in enumerate(reversed(Observables)):\n",
    "        b_curr = {}\n",
    "        for state in states:\n",
    "            if i == 0:\n",
    "                b_curr[state] = 1 \n",
    "            else:\n",
    "                b_curr[state] = sum(A[state][l] * B[l][value] * b_prev[l] for l in states)\n",
    "\n",
    "        beta.insert(0,list(b_curr.values()))\n",
    "        b_prev = b_curr\n",
    "\n",
    "    #p_beta = sum(PI[l] * B[l][Observables[0]] * b_curr[l] for l in states)\n",
    "    \n",
    "    return beta #no of initial states * length of observation sequence"
   ]
  },
  {
   "cell_type": "code",
   "execution_count": 99,
   "metadata": {},
   "outputs": [
    {
     "data": {
      "text/plain": [
       "[[0.014028409100000003, 0.0005229484545000001],\n",
       " [0.03481800000000001, 0.01012091],\n",
       " [0.41000000000000003, 0.05045],\n",
       " [1, 1]]"
      ]
     },
     "execution_count": 99,
     "metadata": {},
     "output_type": "execute_result"
    }
   ],
   "source": [
    "backward(PI, A, B, Observables)"
   ]
  },
  {
   "cell_type": "code",
   "execution_count": 100,
   "metadata": {},
   "outputs": [],
   "source": [
    "def backward_normalized(PI, A, B, Observables):\n",
    "    alpha,c = forward_normalized(PI, A, B, Observables)\n",
    "    beta = backward(PI, A, B, Observables)\n",
    "\n",
    "\n",
    "    for i in range(len(beta)):\n",
    "        for j in range(len(beta[i])):\n",
    "            beta[i][j] = beta[i][j] * c[j]\n",
    "            \n",
    "    return beta"
   ]
  },
  {
   "cell_type": "code",
   "execution_count": 101,
   "metadata": {},
   "outputs": [
    {
     "data": {
      "text/plain": [
       "[[0.003577595030727501, 1.5845338171350004e-05],\n",
       " [0.008879460450000003, 0.00030666357300000003],\n",
       " [0.10456025000000001, 0.0015286350000000002],\n",
       " [0.255025, 0.030300000000000004]]"
      ]
     },
     "execution_count": 101,
     "metadata": {},
     "output_type": "execute_result"
    }
   ],
   "source": [
    "backward_normalized(PI, A, B, Observables)"
   ]
  },
  {
   "cell_type": "markdown",
   "metadata": {},
   "source": [
    "# Smoothing by Forward-Backward Algorithm"
   ]
  },
  {
   "cell_type": "code",
   "execution_count": 102,
   "metadata": {},
   "outputs": [],
   "source": [
    "def smoothed_probability(alpha, beta, noOfStates, noOfTimeSteps):\n",
    "    return matrix"
   ]
  },
  {
   "cell_type": "code",
   "execution_count": null,
   "metadata": {},
   "outputs": [],
   "source": []
  }
 ],
 "metadata": {
  "kernelspec": {
   "display_name": "Python 3",
   "language": "python",
   "name": "python3"
  },
  "language_info": {
   "codemirror_mode": {
    "name": "ipython",
    "version": 3
   },
   "file_extension": ".py",
   "mimetype": "text/x-python",
   "name": "python",
   "nbconvert_exporter": "python",
   "pygments_lexer": "ipython3",
   "version": "3.7.0"
  }
 },
 "nbformat": 4,
 "nbformat_minor": 2
}
