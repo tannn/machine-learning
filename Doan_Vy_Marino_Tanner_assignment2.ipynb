{
 "cells": [
  {
   "cell_type": "code",
   "execution_count": 26,
   "metadata": {},
   "outputs": [],
   "source": [
    "# Inital state probability matrix, given\n",
    "PI = [0.5,0.5]\n",
    "# PI = {'Healthy': 0.5, 'Depressed': 0.5}\n",
    "# state transition probability matrix, given\n",
    "A = [[0.8,0.2],[0.001,0.999]]\n",
    "# A = {\n",
    "#     'Healthy' : {'Healthy': 0.8, 'Depressed': 0.2},\n",
    "#     'Depressed' : {'Healthy': 0.001, 'Depressed': 0.999},\n",
    "# }\n",
    "# Emission or observation probability matrix, given\n",
    "B = [[0.5,0.1,0.3,0.1,0.0],[0.05,0.35,0.2,0.2,0.2]]\n",
    "# B = {\n",
    "#     'Healthy' : {'Movement': 0.5, 'Passive': 0.1, 'Active' : 0.3, 'Texting' : 0.1, 'Access' : 0.0},\n",
    "#     'Depressed' : {'Movement': 0.05, 'Passive': 0.35, 'Active' : 0.2, 'Texting' : 0.2, 'Access' : 0.2},\n",
    "# }\n",
    "\n",
    "# state codes of the observed states, dummy\n",
    "# Observables = [0,1,2,3,4]\n",
    "# Observables = [\"Movement\",\"Passive\",\"Active\",\"Texting\",\"Access\"]\n",
    "#Observables = [\"Movement\", \"Texting\", \"Movement\", \"Texting\"]\n",
    "#states = [\"Healthy\",\"Depressed\"]\n",
    "states = [0, 1]\n",
    "Observables = [0,3,0,3]\n",
    "#Observables = {\"Movement\":0, \"Passive Social\":1, \"Active Social\":2, \"Texting\":3, \"Access Psych Site\":4}"
   ]
  },
  {
   "cell_type": "markdown",
   "metadata": {},
   "source": [
    "# Filtering"
   ]
  },
  {
   "cell_type": "code",
   "execution_count": 2,
   "metadata": {},
   "outputs": [],
   "source": [
    "def forward(PI, A, B, Observables):\n",
    "    #Note: alpha_1(i) = pi_i(b_i)(O_1)\n",
    "    #i.e. alpha_1(i) = PI[i](B[i])(Observables[1])\n",
    "    #dim of alpha_matrix is n_A x n_Observables\n",
    "    alpha_matrix = []\n",
    "    alpha_curr = {} \n",
    "    for i,value in enumerate(Observables):\n",
    "        alpha_next = {}\n",
    "        for state in states: \n",
    "            #base case\n",
    "            if i == 0:\n",
    "                alpha_next[state] = 1\n",
    "            else: \n",
    "                alpha_next[state] = sum(A[state][l] * B[l][value] * b_curr[l] for l in states)\n",
    "        alpha_matrix.insert(1,list(b_next.values()))\n",
    "\n",
    "        b_curr = b_next\n",
    "        \n",
    "\n",
    "        \n",
    "    return alpha_matrix #(normalized forward probability matrix), c (one-dimensional normalization (scaling) coefficient array)"
   ]
  },
  {
   "cell_type": "code",
   "execution_count": null,
   "metadata": {},
   "outputs": [],
   "source": [
    "def forward_normalized(PI, A, B, Observables):\n",
    "    alpha = forward(PI, A, B, Observables)\n",
    "    c = []\n",
    "    for i in alpha_matrix:\n",
    "        for j in i:\n",
    "            c[j] += i\n",
    "    \n",
    "    for i in alpha:\n",
    "        for j in i:\n",
    "            alpha[i][j] = c[j]\n",
    "    \n",
    "    return alpha, c"
   ]
  },
  {
   "cell_type": "markdown",
   "metadata": {},
   "source": [
    "# Evaluation"
   ]
  },
  {
   "cell_type": "code",
   "execution_count": 3,
   "metadata": {},
   "outputs": [],
   "source": [
    "def evaluation_unnormalized(alpha):\n",
    "    return #probability"
   ]
  },
  {
   "cell_type": "code",
   "execution_count": null,
   "metadata": {},
   "outputs": [],
   "source": [
    "def evaluation_normalized(c):\n",
    "    return probability"
   ]
  },
  {
   "cell_type": "markdown",
   "metadata": {},
   "source": [
    "# Backward Probability"
   ]
  },
  {
   "cell_type": "code",
   "execution_count": 42,
   "metadata": {},
   "outputs": [],
   "source": [
    "def backward(PI, A, B, Observables):\n",
    "    \n",
    "    bkw = []\n",
    "    b_prev = {}\n",
    "    for i, value in enumerate(reversed(Observables)):\n",
    "        b_curr = {}\n",
    "        for state in states:\n",
    "            if i == 0:\n",
    "                b_curr[state] = 1 \n",
    "            else:\n",
    "                b_curr[state] = sum(A[state][l] * B[l][value] * b_prev[l] for l in states)\n",
    "\n",
    "        bkw.insert(0,list(b_curr.values()))\n",
    "        b_prev = b_curr\n",
    "\n",
    "    #p_bkw = sum(PI[l] * B[l][Observables[0]] * b_curr[l] for l in states)\n",
    "    \n",
    "    return bkw #no of initial states * length of observation sequence"
   ]
  },
  {
   "cell_type": "code",
   "execution_count": 43,
   "metadata": {},
   "outputs": [
    {
     "data": {
      "text/plain": [
       "[[0.014028409100000003, 0.0005229484545000001],\n",
       " [0.03481800000000001, 0.01012091],\n",
       " [0.41000000000000003, 0.05045],\n",
       " [1, 1]]"
      ]
     },
     "execution_count": 43,
     "metadata": {},
     "output_type": "execute_result"
    }
   ],
   "source": [
    "backward(PI, A, B, Observables)"
   ]
  },
  {
   "cell_type": "code",
   "execution_count": 35,
   "metadata": {},
   "outputs": [],
   "source": [
    "def backward_normalized(PI, A, B, c, Observables):\n",
    "    alpha,c = forward_normalized(PI, A, B, Observables)\n",
    "    beta = backward(PI, A, B, Observables)\n",
    "    \n",
    "    for i in beta:\n",
    "        for j in i:\n",
    "            beta[i][j] = c[j]\n",
    "            \n",
    "    return beta"
   ]
  },
  {
   "cell_type": "markdown",
   "metadata": {},
   "source": [
    "# Smoothing by Forward-Backward Algorithm"
   ]
  },
  {
   "cell_type": "code",
   "execution_count": null,
   "metadata": {},
   "outputs": [],
   "source": [
    "def smoothed_probability(alpha, beta, noOfStates, noOfTimeSteps):\n",
    "    return matrix"
   ]
  },
  {
   "cell_type": "code",
   "execution_count": null,
   "metadata": {},
   "outputs": [],
   "source": []
  }
 ],
 "metadata": {
  "kernelspec": {
   "display_name": "Python 3",
   "language": "python",
   "name": "python3"
  },
  "language_info": {
   "codemirror_mode": {
    "name": "ipython",
    "version": 3
   },
   "file_extension": ".py",
   "mimetype": "text/x-python",
   "name": "python",
   "nbconvert_exporter": "python",
   "pygments_lexer": "ipython3",
   "version": "3.7.0"
  }
 },
 "nbformat": 4,
 "nbformat_minor": 2
}
