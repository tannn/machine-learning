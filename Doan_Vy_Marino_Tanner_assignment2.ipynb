{
 "cells": [
  {
   "cell_type": "code",
   "execution_count": 1,
   "metadata": {},
   "outputs": [],
   "source": [
    "# Inital state probability matrix, given\n",
    "PI = [0.5,0.5]\n",
    "# PI = {'Healthy': 0.5, 'Depressed': 0.5}\n",
    "# state transition probability matrix, given\n",
    "A = [[0.8,0.2],[0.001,0.999]]\n",
    "# A = {\n",
    "#     'Healthy' : {'Healthy': 0.8, 'Depressed': 0.2},\n",
    "#     'Depressed' : {'Healthy': 0.001, 'Depressed': 0.999},\n",
    "# }\n",
    "# Emission or observation probability matrix, given\n",
    "B = [[0.5,0.1,0.3,0.1,0.0],[0.05,0.35,0.2,0.2,0.2]]\n",
    "# B = {\n",
    "#     'Healthy' : {'Movement': 0.5, 'Passive': 0.1, 'Active' : 0.3, 'Texting' : 0.1, 'Access' : 0.0},\n",
    "#     'Depressed' : {'Movement': 0.05, 'Passive': 0.35, 'Active' : 0.2, 'Texting' : 0.2, 'Access' : 0.2},\n",
    "# }\n",
    "\n",
    "# state codes of the observed states, dummy\n",
    "# Observables = [0,1,2,3,4]\n",
    "# Observables = [\"Movement\",\"Passive\",\"Active\",\"Texting\",\"Access\"]\n",
    "#Observables = [\"Movement\", \"Texting\", \"Movement\", \"Texting\"]\n",
    "#states = [\"Healthy\",\"Depressed\"]\n",
    "states = [0, 1]\n",
    "Observables = [0,3,0,3]\n",
    "#Observables = [0,0,2]\n",
    "#Observables = {\"Movement\":0, \"Passive Social\":1, \"Active Social\":2, \"Texting\":3, \"Access Psych Site\":4}"
   ]
  },
  {
   "cell_type": "code",
   "execution_count": 2,
   "metadata": {},
   "outputs": [],
   "source": [
    "PI_2 = [0.5,0.5]\n",
    "A_2 = [[0.7,0.3],[0.3,0.7]]\n",
    "B_2 = [[0.9,0.1],[0.2,0.8]]\n",
    "states = [0,1]\n",
    "Observables_2 = [0,0]"
   ]
  },
  {
   "cell_type": "markdown",
   "metadata": {},
   "source": [
    "# Filtering"
   ]
  },
  {
   "cell_type": "code",
   "execution_count": 3,
   "metadata": {},
   "outputs": [],
   "source": [
    "import numpy as np \n",
    "from numpy import matrix\n",
    "\n",
    "def forward(PI, A, B, Observables):\n",
    "    alpha_matrix = []\n",
    "    curr = {}\n",
    "    #nex = [0] * len(A)\n",
    "    for i in range (0, len(A)):\n",
    "        curr[i] = PI[i] * B[i][0]\n",
    "    #alpha_matrix.append(curr)\n",
    "    alpha_matrix.append(list(curr.values()))\n",
    "\n",
    "    for t in range (1, len(Observables)):\n",
    "        #nex = [0] * len(A)\n",
    "        nex = {}\n",
    "        for i in range (len(A)):\n",
    "            t_value = Observables[t]\n",
    "            nex[i] =  sum(curr[j] * A[j][i] * B[i][t_value] for j in range(len(A)))\n",
    "                #print(nex)\n",
    "            #nex[i] = nex[i] * B[i][t_value] \n",
    "        alpha_matrix.append(list(nex.values()))\n",
    "        #alpha.insert(t,list(nex.values()))\n",
    "\n",
    "        curr = nex.copy()\n",
    "            \n",
    "    alpha_matrix = np.transpose(alpha_matrix)\n",
    "\n",
    "    return alpha_matrix"
   ]
  },
  {
   "cell_type": "code",
   "execution_count": 4,
   "metadata": {},
   "outputs": [],
   "source": [
    "def forward_normalized(PI, A, B, Observables):\n",
    "    alpha_matrix = []\n",
    "    curr = {}\n",
    "    c = {}\n",
    "    for i in range (0, len(A)):\n",
    "        curr[i] = PI[i] * B[i][0]\n",
    "        \n",
    "    #alpha_matrix.insert(list(curr.values()))\n",
    "    c[0] = sum(curr[i] for i in range(len(curr)))\n",
    "\n",
    "    \n",
    "    c[0] = 1/c[0]\n",
    "    for i in range (0, len(A)):\n",
    "        curr[i] = c[0] * curr[i]\n",
    "    \n",
    "    alpha_matrix.append(list(curr.values()))\n",
    "\n",
    "    \n",
    "    for t in range (1, len(Observables)):\n",
    "        nex = {}\n",
    "        nex_norm = {}\n",
    "        for i in range (len(A)):\n",
    "                #nex = alpha_matrix[t-1][j]\n",
    "            t_value = Observables[t]\n",
    "            nex[i] =  sum(curr[j] * A[j][i] * B[i][t_value] for j in range(len(A)))\n",
    "        c[t] = 1/sum(nex[k] for k in range(len(nex)))\n",
    "        #c[t] = 1/c[t]\n",
    "        for i in range (0,len(A)):\n",
    "            nex_norm[i] = c[t] * nex[i]\n",
    "        alpha_matrix.append(list(nex_norm.values()))\n",
    "        curr = nex_norm\n",
    "        \n",
    "      \n",
    "            \n",
    "    alpha_matrix = np.transpose(alpha_matrix)\n",
    "    c_array = list(c.values())\n",
    "\n",
    "    return alpha_matrix, c_array"
   ]
  },
  {
   "cell_type": "markdown",
   "metadata": {},
   "source": [
    "# Evaluation"
   ]
  },
  {
   "cell_type": "code",
   "execution_count": 5,
   "metadata": {},
   "outputs": [],
   "source": [
    "def evaluation_unnormalized(alpha):\n",
    "    probability = 0\n",
    "    for i in range(len(alpha)):\n",
    "        for j in range(0, len(alpha[i])):\n",
    "             probability += alpha[i][j]        \n",
    "    return probability"
   ]
  },
  {
   "cell_type": "code",
   "execution_count": 6,
   "metadata": {},
   "outputs": [],
   "source": [
    "import math\n",
    "def evaluation_normalized(c):\n",
    "    probability = -1 * sum(math.log(i) for i in c)\n",
    "    return probability"
   ]
  },
  {
   "cell_type": "markdown",
   "metadata": {},
   "source": [
    "# Backward Probability"
   ]
  },
  {
   "cell_type": "code",
   "execution_count": 24,
   "metadata": {},
   "outputs": [],
   "source": [
    "def backward(PI, A, B, Observables):\n",
    "    \n",
    "    beta = []\n",
    "    curr = {}\n",
    "\n",
    "    b_prev = {}\n",
    "    for i, value in enumerate(reversed(Observables)):\n",
    "        b_curr = {}\n",
    "        for state in states:\n",
    "            if i == 0:\n",
    "                b_curr[state] = 1 \n",
    "            else:\n",
    "                b_curr[state] = sum(A[state][l] * B[l][value] * b_prev[l] for l in states)\n",
    "\n",
    "        beta.insert(0,list(b_curr.values()))\n",
    "        b_prev = b_curr\n",
    "\n",
    "    #p_beta = sum(PI[l] * B[l][Observables[0]] * b_curr[l] for l in states)\n",
    "    \n",
    "    return np.transpose(beta) #no of initial states * length of observation sequence"
   ]
  },
  {
   "cell_type": "code",
   "execution_count": 60,
   "metadata": {},
   "outputs": [],
   "source": [
    "def backward_normalized(PI, A, B, Observables):\n",
    "    alpha,c = forward_normalized(PI, A, B, Observables)\n",
    "     \n",
    "    beta = []\n",
    "    curr = {}\n",
    "\n",
    "    b_prev = {}\n",
    "    for i, value in enumerate(reversed(Observables)):\n",
    "        b_curr = {}\n",
    "        for state in states:\n",
    "            if i == 0:\n",
    "                b_curr[state] = 1 \n",
    "                b_curr[state] = b_curr[state] * c[i]\n",
    "            else:\n",
    "                b_curr[state] = sum(A[state][l] * B[l][value] * b_prev[l] for l in states)\n",
    "\n",
    "        beta.insert(0,list(b_curr.values()))\n",
    "        b_prev = b_curr\n",
    "            \n",
    "    return np.transpose(beta)"
   ]
  },
  {
   "cell_type": "code",
   "execution_count": 40,
   "metadata": {},
   "outputs": [],
   "source": [
    "alpha = forward(PI,A,B,Observables)"
   ]
  },
  {
   "cell_type": "code",
   "execution_count": 41,
   "metadata": {},
   "outputs": [],
   "source": [
    "alpha_norm, c = forward_normalized(PI, A, B, Observables)"
   ]
  },
  {
   "cell_type": "code",
   "execution_count": 42,
   "metadata": {},
   "outputs": [
    {
     "data": {
      "text/plain": [
       "[3.6363636363636362, 7.857704121722981, 3.9070511989489494, 7.784209968703886]"
      ]
     },
     "execution_count": 42,
     "metadata": {},
     "output_type": "execute_result"
    }
   ],
   "source": [
    "c"
   ]
  },
  {
   "cell_type": "code",
   "execution_count": 43,
   "metadata": {},
   "outputs": [
    {
     "data": {
      "text/plain": [
       "array([[0.25      , 0.0200025 , 0.0080085 , 0.00064077],\n",
       "       [0.025     , 0.014995  , 0.00094903, 0.00050996]])"
      ]
     },
     "execution_count": 43,
     "metadata": {},
     "output_type": "execute_result"
    }
   ],
   "source": [
    "alpha"
   ]
  },
  {
   "cell_type": "code",
   "execution_count": 44,
   "metadata": {},
   "outputs": [],
   "source": [
    "beta = backward(PI, A, B, Observables)"
   ]
  },
  {
   "cell_type": "code",
   "execution_count": 45,
   "metadata": {},
   "outputs": [
    {
     "data": {
      "text/plain": [
       "array([[1.40284091e-02, 3.48180000e-02, 4.10000000e-01, 1.00000000e+00],\n",
       "       [5.22948455e-04, 1.01209100e-02, 5.04500000e-02, 1.00000000e+00]])"
      ]
     },
     "execution_count": 45,
     "metadata": {},
     "output_type": "execute_result"
    }
   ],
   "source": [
    "beta"
   ]
  },
  {
   "cell_type": "code",
   "execution_count": 61,
   "metadata": {},
   "outputs": [
    {
     "data": {
      "text/plain": [
       "array([[12.19087967,  3.88701218, 11.71512251,  3.63636364],\n",
       "       [ 0.45444937,  1.12987824,  1.44153154,  3.63636364]])"
      ]
     },
     "execution_count": 61,
     "metadata": {},
     "output_type": "execute_result"
    }
   ],
   "source": [
    "backward_normalized(PI, A, B, Observables)\n"
   ]
  },
  {
   "cell_type": "markdown",
   "metadata": {},
   "source": [
    "# Smoothing by Forward-Backward Algorithm"
   ]
  },
  {
   "cell_type": "code",
   "execution_count": 50,
   "metadata": {},
   "outputs": [],
   "source": [
    "def smoothed_probability(alpha, beta, noOfStates, noOfTimeSteps):\n",
    "    matrix = []\n",
    "    for i in range(len(alpha)):\n",
    "        curr = {}\n",
    "        for t in range(len(alpha[i])):\n",
    "            curr[t] = alpha[i][t] * beta[i][t] / (sum(alpha[j][t] * beta[j][t] for j in range(len(alpha))))\n",
    "        matrix.append(list(curr.values()) ) \n",
    "                \n",
    "    return matrix"
   ]
  },
  {
   "cell_type": "code",
   "execution_count": 51,
   "metadata": {},
   "outputs": [
    {
     "data": {
      "text/plain": [
       "[[0.9962860631362895,\n",
       "  0.8210784719980339,\n",
       "  0.9856280045317052,\n",
       "  0.5568419937407776],\n",
       " [0.003713936863710455,\n",
       "  0.17892152800196623,\n",
       "  0.014371995468294799,\n",
       "  0.44315800625922225]]"
      ]
     },
     "execution_count": 51,
     "metadata": {},
     "output_type": "execute_result"
    }
   ],
   "source": [
    "smoothed_probability(alpha,beta,len(alpha), len(beta))"
   ]
  },
  {
   "cell_type": "code",
   "execution_count": 52,
   "metadata": {},
   "outputs": [],
   "source": [
    "alpha_2 = forward(PI_2,A_2,B_2,Observables_2)"
   ]
  },
  {
   "cell_type": "code",
   "execution_count": 53,
   "metadata": {},
   "outputs": [],
   "source": [
    "beta_2 = backward(PI_2, A_2, B_2, Observables_2)"
   ]
  },
  {
   "cell_type": "code",
   "execution_count": 54,
   "metadata": {},
   "outputs": [
    {
     "data": {
      "text/plain": [
       "[[0.883357041251778, 0.8833570412517782],\n",
       " [0.11664295874822192, 0.1166429587482219]]"
      ]
     },
     "execution_count": 54,
     "metadata": {},
     "output_type": "execute_result"
    }
   ],
   "source": [
    "smoothed_probability(alpha_2,beta_2,len(alpha_2), len(beta_2))"
   ]
  },
  {
   "cell_type": "code",
   "execution_count": null,
   "metadata": {},
   "outputs": [],
   "source": []
  }
 ],
 "metadata": {
  "kernelspec": {
   "display_name": "Python 3",
   "language": "python",
   "name": "python3"
  },
  "language_info": {
   "codemirror_mode": {
    "name": "ipython",
    "version": 3
   },
   "file_extension": ".py",
   "mimetype": "text/x-python",
   "name": "python",
   "nbconvert_exporter": "python",
   "pygments_lexer": "ipython3",
   "version": "3.7.0"
  }
 },
 "nbformat": 4,
 "nbformat_minor": 2
}
