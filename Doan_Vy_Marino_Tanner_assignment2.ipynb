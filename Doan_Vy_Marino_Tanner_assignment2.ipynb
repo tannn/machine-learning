{
 "cells": [
  {
   "cell_type": "code",
   "execution_count": 99,
   "metadata": {},
   "outputs": [],
   "source": [
    "# Inital state probability matrix, given\n",
    "PI = [0.5,0.5]\n",
    "# PI = {'Healthy': 0.5, 'Depressed': 0.5}\n",
    "# state transition probability matrix, given\n",
    "A = [[0.8,0.2],[0.001,0.999]]\n",
    "# A = {\n",
    "#     'Healthy' : {'Healthy': 0.8, 'Depressed': 0.2},\n",
    "#     'Depressed' : {'Healthy': 0.001, 'Depressed': 0.999},\n",
    "# }\n",
    "# Emission or observation probability matrix, given\n",
    "B = [[0.5,0.1,0.3,0.1,0.0],[0.05,0.35,0.2,0.2,0.2]]\n",
    "# B = {\n",
    "#     'Healthy' : {'Movement': 0.5, 'Passive': 0.1, 'Active' : 0.3, 'Texting' : 0.1, 'Access' : 0.0},\n",
    "#     'Depressed' : {'Movement': 0.05, 'Passive': 0.35, 'Active' : 0.2, 'Texting' : 0.2, 'Access' : 0.2},\n",
    "# }\n",
    "\n",
    "# state codes of the observed states, dummy\n",
    "# Observables = [0,1,2,3,4]\n",
    "# Observables = [\"Movement\",\"Passive\",\"Active\",\"Texting\",\"Access\"]\n",
    "#Observables = [\"Movement\", \"Texting\", \"Movement\", \"Texting\"]\n",
    "#states = [\"Healthy\",\"Depressed\"]\n",
    "states = [0, 1]\n",
    "Observables = [0,3,0,3]\n",
    "#Observables = {\"Movement\":0, \"Passive Social\":1, \"Active Social\":2, \"Texting\":3, \"Access Psych Site\":4}"
   ]
  },
  {
   "cell_type": "markdown",
   "metadata": {},
   "source": [
    "# Filtering"
   ]
  },
  {
   "cell_type": "code",
   "execution_count": 100,
   "metadata": {},
   "outputs": [],
   "source": [
    "import numpy as np \n",
    "from numpy import matrix\n",
    "\n",
    "def forward_1(PI, A, B, Observables):\n",
    "    #rows = [0] * len(Observables)\n",
    "    alpha_matrix = []\n",
    "    curr = []\n",
    "    for t,t_value in enumerate(Observables):\n",
    "        nex = [0] * len(A)\n",
    "        for a,a_value in enumerate(A): \n",
    "            if t == 0:\n",
    "                nex[a] = PI[a] * B[a][t_value]\n",
    "            else:\n",
    "                for i in range(len(curr)):\n",
    "                    nex[a] = sum(curr[i]*A[i][l] for l in range(len(A))) * B[a][t_value]\n",
    "            \n",
    "        alpha_matrix.append(nex)\n",
    "        curr = nex\n",
    "        \n",
    "    #alpha_matrix = np.transpose(alpha_matrix)\n",
    "\n",
    "    return alpha_matrix"
   ]
  },
  {
   "cell_type": "code",
   "execution_count": 113,
   "metadata": {},
   "outputs": [],
   "source": [
    "import numpy as np \n",
    "from numpy import matrix\n",
    "\n",
    "def forward(PI, A, B, Observables):\n",
    "    alpha_matrix = []\n",
    "    curr = [0] *len(A)\n",
    "    #nex = [0] * len(A)\n",
    "    for i in range (0, len(A)):\n",
    "        curr[i] = PI[i] * B[i][0]\n",
    "    alpha_matrix.append(curr)\n",
    "    for t in range (1, len(Observables)):\n",
    "        nex = [0] * len(A)\n",
    "        for i in range (0, len(A)):\n",
    "            for j in range (0, len(A)):\n",
    "                #nex = alpha_matrix[t-1][j]\n",
    "                t_value = Observables[t]\n",
    "                nex[i] =  nex[i] + curr[j] * A[j][i]\n",
    "                nex[i] = nex[i] * B[i][t_value] \n",
    "        alpha_matrix.append(nex)\n",
    "        curr = nex\n",
    "            \n",
    "    #alpha_matrix = np.transpose(alpha_matrix)\n",
    "\n",
    "    return alpha_matrix"
   ]
  },
  {
   "cell_type": "code",
   "execution_count": 138,
   "metadata": {},
   "outputs": [],
   "source": [
    "def forward_normalized_1(PI, A, B, Observables):\n",
    "    alpha = forward(PI, A, B, Observables)\n",
    "    c = [0] * len(Observables)\n",
    "    for i,i_value in enumerate(alpha):\n",
    "        for j,j_value in enumerate(i_value):\n",
    "            c[j] += i_value[j]\n",
    "    \n",
    "    for i in range(len(alpha)):\n",
    "        for j in range(len(alpha[i])):\n",
    "            alpha[i][j] = alpha[i][j] * (1/c[j])\n",
    "    \n",
    "    return alpha, c"
   ]
  },
  {
   "cell_type": "code",
   "execution_count": 104,
   "metadata": {},
   "outputs": [],
   "source": [
    "def forward_normalized(PI, A, B, Observables):\n",
    "    alpha_matrix = []\n",
    "    curr = [0] *len(A)\n",
    "    c = [0] * len(Observables)\n",
    "    for i in range (0, len(A)):\n",
    "        curr[i] = PI[i] * B[i][0]\n",
    "        c[0] = c[0] + curr[i]\n",
    "    alpha_matrix.append(curr)\n",
    "    \n",
    "    c[0] = 1/c[0]\n",
    "    for i in range (0, len(A)):\n",
    "        alpha_matrix[0][i] = c[0] * alpha_matrix[0][i]\n",
    "    \n",
    "    for t in range (1, len(Observables)):\n",
    "        nex = [0] * len(A)\n",
    "        c[t] = 0\n",
    "        for i in range (0, len(A)):\n",
    "            for j in range (0, len(A)):\n",
    "                #nex = alpha_matrix[t-1][j]\n",
    "                t_value = Observables[t]\n",
    "                nex[i] =  nex[i] + curr[j] * A[j][i]\n",
    "                nex[i] = nex[i] * B[i][t_value] \n",
    "            c[t] = c[t] + nex[i]\n",
    "            \n",
    "        c[t] = 1/c[t]\n",
    "        for i in range (0,len(A)):\n",
    "            nex[i] = c[t] * nex[i]\n",
    "        alpha_matrix.append(nex)\n",
    "        curr = nex\n",
    "        \n",
    "        \n",
    "            \n",
    "    #alpha_matrix = np.transpose(alpha_matrix)\n",
    "\n",
    "    return alpha_matrix,c"
   ]
  },
  {
   "cell_type": "code",
   "execution_count": 120,
   "metadata": {},
   "outputs": [],
   "source": [
    "alpha = forward(PI, A, B, Observables)"
   ]
  },
  {
   "cell_type": "code",
   "execution_count": 121,
   "metadata": {},
   "outputs": [
    {
     "data": {
      "text/plain": [
       "[[0.25, 0.025],\n",
       " [0.0020025000000000004, 0.006995000000000001],\n",
       " [0.0004039975000000001, 0.0003504015000000001],\n",
       " [3.2670201500000015e-06, 7.324219970000003e-05]]"
      ]
     },
     "execution_count": 121,
     "metadata": {},
     "output_type": "execute_result"
    }
   ],
   "source": [
    "alpha"
   ]
  },
  {
   "cell_type": "code",
   "execution_count": 122,
   "metadata": {},
   "outputs": [
    {
     "data": {
      "text/plain": [
       "array([2.50000000e-02, 6.99500000e-03, 3.50401500e-04, 7.32421997e-05])"
      ]
     },
     "execution_count": 122,
     "metadata": {},
     "output_type": "execute_result"
    }
   ],
   "source": [
    "c"
   ]
  },
  {
   "cell_type": "code",
   "execution_count": 139,
   "metadata": {},
   "outputs": [],
   "source": [
    "alpha_unorm = forward_1(PI, A, B, Observables)"
   ]
  },
  {
   "cell_type": "code",
   "execution_count": 140,
   "metadata": {},
   "outputs": [
    {
     "data": {
      "text/plain": [
       "[[0.25, 0.025],\n",
       " [0.0025000000000000005, 0.005000000000000001],\n",
       " [0.0025000000000000005, 0.00025000000000000006],\n",
       " [2.5000000000000008e-05, 5.0000000000000016e-05]]"
      ]
     },
     "execution_count": 140,
     "metadata": {},
     "output_type": "execute_result"
    }
   ],
   "source": [
    "alpha_unorm"
   ]
  },
  {
   "cell_type": "markdown",
   "metadata": {},
   "source": [
    "# Evaluation"
   ]
  },
  {
   "cell_type": "code",
   "execution_count": 125,
   "metadata": {},
   "outputs": [],
   "source": [
    "def evaluation_unnormalized(alpha):\n",
    "    probability = 0\n",
    "    for i in alpha:\n",
    "        for j in i:\n",
    "             probability += j        \n",
    "    return probability"
   ]
  },
  {
   "cell_type": "code",
   "execution_count": 126,
   "metadata": {},
   "outputs": [
    {
     "data": {
      "text/plain": [
       "0.285325"
      ]
     },
     "execution_count": 126,
     "metadata": {},
     "output_type": "execute_result"
    }
   ],
   "source": [
    "evaluation_unnormalized(alpha_unorm)"
   ]
  },
  {
   "cell_type": "code",
   "execution_count": 127,
   "metadata": {},
   "outputs": [
    {
     "data": {
      "text/plain": [
       "0.28482840821985"
      ]
     },
     "execution_count": 127,
     "metadata": {},
     "output_type": "execute_result"
    }
   ],
   "source": [
    "evaluation_unnormalized(alpha)"
   ]
  },
  {
   "cell_type": "code",
   "execution_count": 129,
   "metadata": {},
   "outputs": [],
   "source": [
    "def evaluation_normalized(alpha, c):\n",
    "    alpha_norm = alpha.copy()\n",
    "    for i in range(len(alpha)):\n",
    "        for j in range(len(alpha[i])):\n",
    "            alpha_norm[i][j] = alpha[i][j] * c[j]\n",
    "    \n",
    "    probability = 0\n",
    "    for i in alpha_norm:\n",
    "        for j in i:\n",
    "             probability += j \n",
    "    return probability"
   ]
  },
  {
   "cell_type": "code",
   "execution_count": 130,
   "metadata": {},
   "outputs": [],
   "source": [
    "def evaluation_normalized(alpha, c):\n",
    "    probability = 0\n",
    "    for i in alpha:\n",
    "        for j in i:\n",
    "             probability += j\n",
    "    return probability "
   ]
  },
  {
   "cell_type": "code",
   "execution_count": 132,
   "metadata": {},
   "outputs": [],
   "source": [
    "alpha_norm,c = forward_normalized(PI, A, B, Observables)"
   ]
  },
  {
   "cell_type": "code",
   "execution_count": 133,
   "metadata": {},
   "outputs": [
    {
     "data": {
      "text/plain": [
       "[[0.9090909090909091, 0.09090909090909091],\n",
       " [0.22256182272853567, 0.7774381772714642],\n",
       " [0.535522316439974, 0.46447768356002594],\n",
       " [0.04270099938811492, 0.957299000611885]]"
      ]
     },
     "execution_count": 133,
     "metadata": {},
     "output_type": "execute_result"
    }
   ],
   "source": [
    "alpha_norm"
   ]
  },
  {
   "cell_type": "code",
   "execution_count": 134,
   "metadata": {},
   "outputs": [
    {
     "data": {
      "text/plain": [
       "[3.6363636363636362, 30.564045568213384, 11.926712522153396, 9.860236471879276]"
      ]
     },
     "execution_count": 134,
     "metadata": {},
     "output_type": "execute_result"
    }
   ],
   "source": [
    "c"
   ]
  },
  {
   "cell_type": "code",
   "execution_count": 141,
   "metadata": {},
   "outputs": [],
   "source": [
    "alpha_norm_1, c_1 = forward_normalized_1(PI, A, B, Observables)"
   ]
  },
  {
   "cell_type": "code",
   "execution_count": 142,
   "metadata": {},
   "outputs": [
    {
     "data": {
      "text/plain": [
       "[[0.9904529663314288, 0.7711611945144807],\n",
       " [0.007933528260314746, 0.21577090222515175],\n",
       " [0.0016005620890619258, 0.010808641571986636],\n",
       " [1.2943319194528203e-05, 0.0022592616883808066]]"
      ]
     },
     "execution_count": 142,
     "metadata": {},
     "output_type": "execute_result"
    }
   ],
   "source": [
    "alpha_norm_1"
   ]
  },
  {
   "cell_type": "code",
   "execution_count": 143,
   "metadata": {},
   "outputs": [
    {
     "data": {
      "text/plain": [
       "[0.25240976452015, 0.0324186436997, 0, 0]"
      ]
     },
     "execution_count": 143,
     "metadata": {},
     "output_type": "execute_result"
    }
   ],
   "source": [
    "c_1"
   ]
  },
  {
   "cell_type": "markdown",
   "metadata": {},
   "source": [
    "# Backward Probability"
   ]
  },
  {
   "cell_type": "code",
   "execution_count": 97,
   "metadata": {},
   "outputs": [],
   "source": [
    "def backward(PI, A, B, Observables):\n",
    "    \n",
    "    beta = []\n",
    "    b_prev = {}\n",
    "    for i, value in enumerate(reversed(Observables)):\n",
    "        b_curr = {}\n",
    "        for state in states:\n",
    "            if i == 0:\n",
    "                b_curr[state] = 1 \n",
    "            else:\n",
    "                b_curr[state] = sum(A[state][l] * B[l][value] * b_prev[l] for l in states)\n",
    "\n",
    "        beta.insert(0,list(b_curr.values()))\n",
    "        b_prev = b_curr\n",
    "\n",
    "    #p_beta = sum(PI[l] * B[l][Observables[0]] * b_curr[l] for l in states)\n",
    "    \n",
    "    return beta #no of initial states * length of observation sequence"
   ]
  },
  {
   "cell_type": "code",
   "execution_count": 98,
   "metadata": {},
   "outputs": [
    {
     "data": {
      "text/plain": [
       "[[0.014028409100000003, 0.0005229484545000001],\n",
       " [0.03481800000000001, 0.01012091],\n",
       " [0.41000000000000003, 0.05045],\n",
       " [1, 1]]"
      ]
     },
     "execution_count": 98,
     "metadata": {},
     "output_type": "execute_result"
    }
   ],
   "source": [
    "backward(PI, A, B, Observables)"
   ]
  },
  {
   "cell_type": "code",
   "execution_count": 102,
   "metadata": {},
   "outputs": [],
   "source": [
    "def backward_normalized(PI, A, B, Observables):\n",
    "    alpha,c = forward_normalized(PI, A, B, Observables)\n",
    "    beta = backward(PI, A, B, Observables)\n",
    "\n",
    "\n",
    "    for i in range(len(beta)):\n",
    "        for j in range(len(beta[i])):\n",
    "            beta[i][j] = beta[i][j] * (1/c[j])\n",
    "            \n",
    "    return beta"
   ]
  },
  {
   "cell_type": "code",
   "execution_count": 101,
   "metadata": {},
   "outputs": [
    {
     "data": {
      "text/plain": [
       "[[0.003577595030727501, 1.5845338171350004e-05],\n",
       " [0.008879460450000003, 0.00030666357300000003],\n",
       " [0.10456025000000001, 0.0015286350000000002],\n",
       " [0.255025, 0.030300000000000004]]"
      ]
     },
     "execution_count": 101,
     "metadata": {},
     "output_type": "execute_result"
    }
   ],
   "source": [
    "backward_normalized(PI, A, B, Observables)"
   ]
  },
  {
   "cell_type": "markdown",
   "metadata": {},
   "source": [
    "# Smoothing by Forward-Backward Algorithm"
   ]
  },
  {
   "cell_type": "code",
   "execution_count": 102,
   "metadata": {},
   "outputs": [],
   "source": [
    "def smoothed_probability(alpha, beta, noOfStates, noOfTimeSteps):\n",
    "    return matrix"
   ]
  },
  {
   "cell_type": "code",
   "execution_count": null,
   "metadata": {},
   "outputs": [],
   "source": []
  }
 ],
 "metadata": {
  "kernelspec": {
   "display_name": "Python 3",
   "language": "python",
   "name": "python3"
  },
  "language_info": {
   "codemirror_mode": {
    "name": "ipython",
    "version": 3
   },
   "file_extension": ".py",
   "mimetype": "text/x-python",
   "name": "python",
   "nbconvert_exporter": "python",
   "pygments_lexer": "ipython3",
   "version": "3.7.0"
  }
 },
 "nbformat": 4,
 "nbformat_minor": 2
}
