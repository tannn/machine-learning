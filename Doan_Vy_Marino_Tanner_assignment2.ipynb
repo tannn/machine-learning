{
 "cells": [
  {
   "cell_type": "code",
   "execution_count": null,
   "metadata": {},
   "outputs": [],
   "source": [
    "# Inital state probability matrix, given\n",
    "PI = [0.5,0.5]\n",
    "\n",
    "# state transition probability matrix, given\n",
    "A = [[0.8,0.2],[0.001,0.999]]\n",
    "\n",
    "# Emission or observation probability matrix, given\n",
    "B = [[0.5,0.1,0.3,0.1,0.0],[0.05,0.35,0.2,0.2,0.2]]\n",
    "\n",
    "# state codes of the observed states, dummy\n",
    "states = [0, 1]\n",
    "\n",
    "#Observables Movement:0 Passive Social:1 Active Social:2 Texting:3 Access Psych Site:4\n",
    "Observables = [0,3,0,3]"
   ]
  },
  {
   "cell_type": "markdown",
   "metadata": {},
   "source": [
    "# Filtering"
   ]
  },
  {
   "cell_type": "code",
   "execution_count": 3,
   "metadata": {},
   "outputs": [],
   "source": [
    "import numpy as np \n",
    "from numpy import matrix\n",
    "\n",
    "def forward(PI, A, B, Observables):\n",
    "    alpha_matrix = []\n",
    "    curr = {}\n",
    "    \n",
    "    for i in range (0, len(A)):\n",
    "        curr[i] = PI[i] * B[i][0]\n",
    "    \n",
    "    alpha_matrix.append(list(curr.values()))\n",
    "\n",
    "    for t in range (1, len(Observables)):\n",
    "        \n",
    "        nex = {}\n",
    "        for i in range (len(A)):\n",
    "            t_value = Observables[t]\n",
    "            nex[i] =  sum(curr[j] * A[j][i] * B[i][t_value] for j in range(len(A)))\n",
    "\n",
    "        alpha_matrix.append(list(nex.values()))\n",
    "\n",
    "        curr = nex.copy()\n",
    "            \n",
    "    alpha_matrix = np.transpose(alpha_matrix)\n",
    "\n",
    "    return alpha_matrix"
   ]
  },
  {
   "cell_type": "code",
   "execution_count": 4,
   "metadata": {},
   "outputs": [],
   "source": [
    "def forward_normalized(PI, A, B, Observables):\n",
    "    alpha_matrix = []\n",
    "    curr = {}\n",
    "    c = {}\n",
    "    for i in range (0, len(A)):\n",
    "        curr[i] = PI[i] * B[i][0]\n",
    "        \n",
    "    c[0] = sum(curr[i] for i in range(len(curr)))\n",
    "\n",
    "    \n",
    "    c[0] = 1/c[0]\n",
    "    for i in range (0, len(A)):\n",
    "        curr[i] = c[0] * curr[i]\n",
    "    \n",
    "    alpha_matrix.append(list(curr.values()))\n",
    "\n",
    "    \n",
    "    for t in range (1, len(Observables)):\n",
    "        nex = {}\n",
    "        nex_norm = {}\n",
    "        for i in range (len(A)):\n",
    "            t_value = Observables[t]\n",
    "            nex[i] =  sum(curr[j] * A[j][i] * B[i][t_value] for j in range(len(A)))\n",
    "        c[t] = 1/sum(nex[k] for k in range(len(nex)))\n",
    "        for i in range (0,len(A)):\n",
    "            nex_norm[i] = c[t] * nex[i]\n",
    "        alpha_matrix.append(list(nex_norm.values()))\n",
    "        curr = nex_norm\n",
    "        \n",
    "      \n",
    "            \n",
    "    alpha_matrix = np.transpose(alpha_matrix)\n",
    "    c_array = list(c.values())\n",
    "\n",
    "    return alpha_matrix, c_array"
   ]
  },
  {
   "cell_type": "markdown",
   "metadata": {},
   "source": [
    "# Evaluation"
   ]
  },
  {
   "cell_type": "code",
   "execution_count": 5,
   "metadata": {},
   "outputs": [],
   "source": [
    "def evaluation_unnormalized(alpha):\n",
    "    probability = 0\n",
    "    for i in range(len(alpha)):\n",
    "        for j in range(0, len(alpha[i])):\n",
    "             probability += alpha[i][j]        \n",
    "    return probability"
   ]
  },
  {
   "cell_type": "code",
   "execution_count": 6,
   "metadata": {},
   "outputs": [],
   "source": [
    "import math\n",
    "def evaluation_normalized(c):\n",
    "    probability = -1 * sum(math.log(i) for i in c)\n",
    "    return probability"
   ]
  },
  {
   "cell_type": "markdown",
   "metadata": {},
   "source": [
    "# Backward Probability"
   ]
  },
  {
   "cell_type": "code",
   "execution_count": 7,
   "metadata": {},
   "outputs": [],
   "source": [
    "def backward(PI, A, B, Observables):\n",
    "    \n",
    "    beta = []\n",
    "    curr = {}\n",
    "\n",
    "    b_prev = {}\n",
    "    for i, value in enumerate(reversed(Observables)):\n",
    "        b_curr = {}\n",
    "        for state in states:\n",
    "            if i == 0:\n",
    "                b_curr[state] = 1 \n",
    "            else:\n",
    "                b_curr[state] = sum(A[state][l] * B[l][value] * b_prev[l] for l in states)\n",
    "\n",
    "        beta.insert(0,list(b_curr.values()))\n",
    "        b_prev = b_curr\n",
    "\n",
    "    \n",
    "    return np.transpose(beta) "
   ]
  },
  {
   "cell_type": "code",
   "execution_count": 8,
   "metadata": {},
   "outputs": [],
   "source": [
    "def backward_normalized(PI, A, B, c, Observables):\n",
    "    beta = []\n",
    "    curr = {}\n",
    "\n",
    "    b_prev = {}\n",
    "    for i, value in enumerate(reversed(Observables)):\n",
    "        b_curr = {}\n",
    "        for state in states:\n",
    "            if i == 0:\n",
    "                b_curr[state] = 1 \n",
    "                b_curr[state] = b_curr[state] * c[i]\n",
    "            else:\n",
    "                b_curr[state] = sum(A[state][l] * B[l][value] * b_prev[l] for l in states)\n",
    "\n",
    "        beta.insert(0,list(b_curr.values()))\n",
    "        b_prev = b_curr\n",
    "            \n",
    "    return np.transpose(beta)"
   ]
  },
  {
   "cell_type": "code",
   "execution_count": 9,
   "metadata": {},
   "outputs": [],
   "source": [
    "alpha = forward(PI,A,B,Observables)"
   ]
  },
  {
   "cell_type": "code",
   "execution_count": 10,
   "metadata": {},
   "outputs": [],
   "source": [
    "alpha_norm, c = forward_normalized(PI, A, B, Observables)"
   ]
  },
  {
   "cell_type": "code",
   "execution_count": 11,
   "metadata": {},
   "outputs": [
    {
     "name": "stdout",
     "output_type": "stream",
     "text": [
      "c matrix\n",
      "[3.6363636363636362, 7.857704121722981, 3.9070511989489494, 7.784209968703886]\n"
     ]
    }
   ],
   "source": [
    "print(\"c matrix\")\n",
    "print(c)"
   ]
  },
  {
   "cell_type": "code",
   "execution_count": 12,
   "metadata": {},
   "outputs": [
    {
     "name": "stdout",
     "output_type": "stream",
     "text": [
      "Alpha matrix\n",
      "[[0.25       0.0200025  0.0080085  0.00064077]\n",
      " [0.025      0.014995   0.00094903 0.00050996]]\n"
     ]
    }
   ],
   "source": [
    "print(\"Alpha matrix\")\n",
    "print(alpha)"
   ]
  },
  {
   "cell_type": "code",
   "execution_count": 13,
   "metadata": {},
   "outputs": [],
   "source": [
    "beta = backward(PI, A, B, Observables)"
   ]
  },
  {
   "cell_type": "code",
   "execution_count": 14,
   "metadata": {},
   "outputs": [
    {
     "name": "stdout",
     "output_type": "stream",
     "text": [
      "Beta Matrix\n",
      "[[1.40284091e-02 3.48180000e-02 4.10000000e-01 1.00000000e+00]\n",
      " [5.22948455e-04 1.01209100e-02 5.04500000e-02 1.00000000e+00]]\n"
     ]
    }
   ],
   "source": [
    "print(\"Beta Matrix\")\n",
    "print(beta)"
   ]
  },
  {
   "cell_type": "code",
   "execution_count": 21,
   "metadata": {},
   "outputs": [
    {
     "name": "stdout",
     "output_type": "stream",
     "text": [
      "Backward normalized matrix\n",
      "[[5.10123967e-02 1.26610909e-01 1.49090909e+00 3.63636364e+00]\n",
      " [1.90163074e-03 3.68033091e-02 1.83454545e-01 3.63636364e+00]]\n",
      "Alpha normalized matrix\n",
      "[[0.90909091 0.57154082 0.89405271 0.55684199]\n",
      " [0.09090909 0.42845918 0.10594729 0.44315801]]\n"
     ]
    }
   ],
   "source": [
    "print(\"Backward normalized matrix\")\n",
    "print(backward_normalized(PI, A, B, c, Observables))\n",
    "print(\"Alpha normalized matrix\")\n",
    "print(alpha_norm)"
   ]
  },
  {
   "cell_type": "code",
   "execution_count": 22,
   "metadata": {},
   "outputs": [
    {
     "name": "stdout",
     "output_type": "stream",
     "text": [
      "Evaluation unnormalized\n",
      "0.320105752597475\n",
      "Evaluation normalized\n",
      "-6.767358887933846\n"
     ]
    }
   ],
   "source": [
    "print(\"Evaluation unnormalized\")\n",
    "print(evaluation_unnormalized(alpha))\n",
    "print(\"Evaluation normalized\")\n",
    "print(evaluation_normalized(c))"
   ]
  },
  {
   "cell_type": "markdown",
   "metadata": {},
   "source": [
    "# Smoothing by Forward-Backward Algorithm"
   ]
  },
  {
   "cell_type": "code",
   "execution_count": 16,
   "metadata": {},
   "outputs": [],
   "source": [
    "def smoothed_probability(alpha, beta, noOfStates, noOfTimeSteps):\n",
    "    matrix = []\n",
    "    for i in range(len(alpha)):\n",
    "        curr = {}\n",
    "        for t in range(len(alpha[i])):\n",
    "            curr[t] = alpha[i][t] * beta[i][t] / (sum(alpha[j][t] * beta[j][t] for j in range(len(alpha))))\n",
    "        matrix.append(list(curr.values()) ) \n",
    "                \n",
    "    return matrix"
   ]
  },
  {
   "cell_type": "code",
   "execution_count": 17,
   "metadata": {},
   "outputs": [
    {
     "name": "stdout",
     "output_type": "stream",
     "text": [
      "Smoothed probability matrix\n"
     ]
    },
    {
     "data": {
      "text/plain": [
       "[[0.9962860631362895,\n",
       "  0.8210784719980339,\n",
       "  0.9856280045317052,\n",
       "  0.5568419937407776],\n",
       " [0.003713936863710455,\n",
       "  0.17892152800196623,\n",
       "  0.014371995468294799,\n",
       "  0.44315800625922225]]"
      ]
     },
     "execution_count": 17,
     "metadata": {},
     "output_type": "execute_result"
    }
   ],
   "source": [
    "print(\"Smoothed probability matrix\")\n",
    "smoothed_probability(alpha,beta,len(alpha), len(beta))"
   ]
  },
  {
   "cell_type": "code",
   "execution_count": null,
   "metadata": {},
   "outputs": [],
   "source": []
  }
 ],
 "metadata": {
  "kernelspec": {
   "display_name": "Python 3",
   "language": "python",
   "name": "python3"
  },
  "language_info": {
   "codemirror_mode": {
    "name": "ipython",
    "version": 3
   },
   "file_extension": ".py",
   "mimetype": "text/x-python",
   "name": "python",
   "nbconvert_exporter": "python",
   "pygments_lexer": "ipython3",
   "version": "3.6.5"
  }
 },
 "nbformat": 4,
 "nbformat_minor": 2
}
