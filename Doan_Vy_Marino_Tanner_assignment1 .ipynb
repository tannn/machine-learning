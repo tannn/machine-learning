{
 "cells": [
  {
   "cell_type": "markdown",
   "metadata": {},
   "source": [
    "# ASSIGNMENT 1"
   ]
  },
  {
   "cell_type": "code",
   "execution_count": 6,
   "metadata": {},
   "outputs": [],
   "source": [
    "import numpy as np\n",
    "import pandas as pd\n",
    "from csv import reader"
   ]
  },
  {
   "cell_type": "markdown",
   "metadata": {},
   "source": [
    "# Part A: Model Code"
   ]
  },
  {
   "cell_type": "code",
   "execution_count": 7,
   "metadata": {},
   "outputs": [
    {
     "name": "stdout",
     "output_type": "stream",
     "text": [
      "['fixed acidity', 'volatile acidity', 'citric acid', 'residual sugar', 'chlorides', 'free sulfur dioxide', 'total sulfur dioxide', 'density', 'pH', 'sulphates', 'alcohol', 'quality']\n"
     ]
    }
   ],
   "source": [
    "wineFile = 'winequality-white.csv'\n",
    "wineData = pd.read_csv(wineFile, delimiter=\";\")\n",
    "\n",
    "print(list(wineData.keys()))"
   ]
  },
  {
   "cell_type": "markdown",
   "metadata": {},
   "source": [
    "5) Write a function to calculate and return the Euclidean distance of two vectors."
   ]
  },
  {
   "cell_type": "code",
   "execution_count": 79,
   "metadata": {},
   "outputs": [],
   "source": [
    "import math \n",
    "from math import sqrt\n",
    "from math import pow \n",
    "\n",
    "def distEuclidean(v1, v2):\n",
    "    dist = 0\n",
    "    for i in range(len(v1)):\n",
    "        dist = dist + pow((v1[i] - v2[i]), 2)\n",
    "    return sqrt(dist)"
   ]
  },
  {
   "cell_type": "code",
   "execution_count": 80,
   "metadata": {},
   "outputs": [
    {
     "data": {
      "text/plain": [
       "11.575836902790225"
      ]
     },
     "execution_count": 80,
     "metadata": {},
     "output_type": "execute_result"
    }
   ],
   "source": [
    "distEuclidean([-5,-2,0],[6,0,3])"
   ]
  },
  {
   "cell_type": "markdown",
   "metadata": {},
   "source": [
    "6) Write a function to calculate and return the Manhattan distance of two vectors"
   ]
  },
  {
   "cell_type": "code",
   "execution_count": 81,
   "metadata": {},
   "outputs": [],
   "source": [
    "def distManhattan(v1, v2):\n",
    "    dist = 0\n",
    "    for i in range(len(v1)):\n",
    "        dist = dist + abs(v1[i] - v2[i])\n",
    "    return dist"
   ]
  },
  {
   "cell_type": "code",
   "execution_count": 82,
   "metadata": {},
   "outputs": [
    {
     "data": {
      "text/plain": [
       "18.700000000000003"
      ]
     },
     "execution_count": 82,
     "metadata": {},
     "output_type": "execute_result"
    }
   ],
   "source": [
    "distManhattan([1.0, 3.2, 4.8, 0.1, 3.2, 0.6, 2.2, 1.1],\n",
    "             [0.1, 5.2, 1.9, 4.2, 1.9, 0.1, 0.1, 6.0])"
   ]
  },
  {
   "cell_type": "code",
   "execution_count": 7,
   "metadata": {},
   "outputs": [
    {
     "data": {
      "text/plain": [
       "11"
      ]
     },
     "execution_count": 7,
     "metadata": {},
     "output_type": "execute_result"
    }
   ],
   "source": [
    "distManhattan([2,3],[8,8])"
   ]
  },
  {
   "cell_type": "markdown",
   "metadata": {},
   "source": [
    "7) Write a function to calculate and return the accuracy and generalization error of two vectors"
   ]
  },
  {
   "cell_type": "code",
   "execution_count": 87,
   "metadata": {},
   "outputs": [],
   "source": [
    "#pVector = predict vector\n",
    "#aVector = actual vector\n",
    "def accuracy_score(y_true, y_pred):\n",
    "    true_positive = 0\n",
    "    false_positive = 0\n",
    "    for i in range(len(y_true)):\n",
    "        if(y_true[i] == y_pred[i]):\n",
    "            true_positive = true_positive + 1\n",
    "        else:\n",
    "            false_positive = false_positive + 1\n",
    "    \n",
    "    accuracy = true_positive / len(y_true)\n",
    "    #TODO: Is generalization error the false positive count?\n",
    "    genError = 1 - accuracy  \n",
    "            \n",
    "    return accuracy, genError"
   ]
  },
  {
   "cell_type": "code",
   "execution_count": 88,
   "metadata": {},
   "outputs": [],
   "source": [
    "accuracy_score, genError = accuracy_score([1,1,0,1,0,0,1,0,0,0],\n",
    "               [1,0,0,1,0,0,1,1,1,0])"
   ]
  },
  {
   "cell_type": "markdown",
   "metadata": {},
   "source": [
    "8) Write three functions to compute: precision, recall and F1 score"
   ]
  },
  {
   "cell_type": "code",
   "execution_count": 14,
   "metadata": {},
   "outputs": [],
   "source": [
    "#Binary case\n",
    "def precision_score(y_true, y_pred):\n",
    "    true_positive = 0\n",
    "    false_positive = 0\n",
    "    \n",
    "    for i in range(len(y_true)):\n",
    "        if (y_pred[i] == 1):\n",
    "            if (y_pred[i] == y_true[i]):\n",
    "                true_positive = true_positive + 1\n",
    "            else:\n",
    "                false_positive = false_positive + 1\n",
    "    \n",
    "    precision = true_positive / (true_positive + false_positive)\n",
    "    return precision\n",
    "\n",
    "def recall_score(y_true, y_pred):\n",
    "    true_positive = 0\n",
    "    false_negative = 0 \n",
    "    \n",
    "    for i in range(len(y_pred)):\n",
    "        if (y_pred[i] == 1):\n",
    "            if (y_pred[i] == y_true[i]):\n",
    "                true_positive = true_positive + 1\n",
    "        else:\n",
    "            if (y_pred[i] != y_true[i]):\n",
    "                false_negative = false_negative + 1\n",
    "    \n",
    "    recall = true_positive / (true_positive + false_negative)\n",
    "    return recall\n",
    "\n",
    "def f1_score(y_true, y_pred):    \n",
    "    precision = precision_score(y_true, y_pred)\n",
    "    recall = recall_score(y_true, y_pred)\n",
    "    f1 = 2 * ((precision*recall)/(precision+recall))\n",
    "    return f1"
   ]
  },
  {
   "cell_type": "code",
   "execution_count": 22,
   "metadata": {},
   "outputs": [
    {
     "name": "stdout",
     "output_type": "stream",
     "text": [
      "0.6\n",
      "0.75\n",
      "0.6666666666666665\n"
     ]
    }
   ],
   "source": [
    "print(precision_score([1,1,0,1,0,0,1,0,0,0],\n",
    "               [1,0,0,1,0,0,1,1,1,0]))\n",
    "print(recall_score([1,1,0,1,0,0,1,0,0,0],\n",
    "               [1,0,0,1,0,0,1,1,1,0]))\n",
    "print(f1_score([1,1,0,1,0,0,1,0,0,0],\n",
    "               [1,0,0,1,0,0,1,1,1,0]))"
   ]
  },
  {
   "cell_type": "markdown",
   "metadata": {},
   "source": [
    "9) Write a function to compute the confusion matrix of two vectors"
   ]
  },
  {
   "cell_type": "code",
   "execution_count": 17,
   "metadata": {},
   "outputs": [],
   "source": [
    "def confusion_matrix(y_true, y_pred):\n",
    "    true_positive = 0\n",
    "    false_positive = 0\n",
    "    true_negative = 0 \n",
    "    false_negative = 0\n",
    "    \n",
    "    for i in range(len(y_true)):\n",
    "        if(y_pred == 1): # y_pred[i]\n",
    "            if(y_pred == y_true[i]):\n",
    "                true_positive = true_positive + 1\n",
    "            else:\n",
    "                false_positive = false_positive + 1\n",
    "        else:\n",
    "            if(y_pred == y_true[i]):\n",
    "                true_negative = true_negative + 1\n",
    "            else:\n",
    "                false_negative = false_negative + 1\n",
    "                \n",
    "    matrix = [[true_negative,false_positive],[false_negative,true_positive]]\n",
    "        \n",
    "    return matrix"
   ]
  },
  {
   "cell_type": "code",
   "execution_count": 13,
   "metadata": {},
   "outputs": [
    {
     "data": {
      "text/plain": [
       "[[4, 2], [1, 3]]"
      ]
     },
     "execution_count": 13,
     "metadata": {},
     "output_type": "execute_result"
    }
   ],
   "source": [
    "confusion_matrix([1,1,0,1,0,0,1,0,0,0],\n",
    "               [1,0,0,1,0,0,1,1,1,0])"
   ]
  },
  {
   "cell_type": "markdown",
   "metadata": {},
   "source": [
    "10) Write a function to generate the Receiver Operating Characteristic (ROC) curve"
   ]
  },
  {
   "cell_type": "code",
   "execution_count": 2,
   "metadata": {},
   "outputs": [],
   "source": [
    "def rates(confusionMatrix):\n",
    "    #Using sklearn: y_scores = cross_val_predict(knn, X_train, y_train, method=\"predict_proba\", cv=3)[:, 1]\n",
    "    # threshold = [1, 0.9, 0.8, 0.7, 0.6, 0.5, 0.3, 0.2, 0.1, 0]\n",
    "    true_positive = confusionMatrix[1][1]\n",
    "    positive = confusionMatrix[1][0] + confusionMatrix[1][1]\n",
    "    false_negative = confusionMatrix[1][0]\n",
    "    negative = confusionMatrix[0][0] + confusionMatrix[1][1]\n",
    "    false_positive = confusionMatrix[0][1]\n",
    "    true_negative = confusionMatrix[0][0]\n",
    "    \n",
    "    # possible divide by 0 error\n",
    "    if positive is not 0:\n",
    "        true_pos_rate = true_positive / (true_positive + false_negative)\n",
    "    else:\n",
    "        true_pos_rate = 0\n",
    "    \n",
    "    # possible divide by 0 error\n",
    "    if negative is not 0:\n",
    "        false_pos_rate = false_positive / (false_positive + true_negative)\n",
    "    else:\n",
    "        false_pos_rate = 0\n",
    "    \n",
    "    return true_pos_rate, false_pos_rate\n",
    "# threshold\n",
    "\n",
    "def performance(confusionMatrix):\n",
    "    true_positive = confusionMatrix[1][1]\n",
    "    positive = confusionMatrix[1][0] + confusionMatrix[1][1]\n",
    "    false_negative = confusionMatrix[1][0]\n",
    "    negative = confusionMatrix[0][0] + confusionMatrix[1][1]\n",
    "    false_positive = confusionMatrix[0][1]\n",
    "    true_negative = confusionMatrix[0][0]\n",
    "    \n",
    "    # possible divide by 0 error\n",
    "    if positive is not 0:\n",
    "        true_pos_rate = true_positive / (true_positive + false_negative)\n",
    "    else:\n",
    "        true_pos_rate = 0\n",
    "    \n",
    "    # possible divide by 0 error\n",
    "    if negative is not 0:\n",
    "        false_pos_rate = false_positive / (false_positive + true_negative)\n",
    "    else:\n",
    "        false_pos_rate = 0\n",
    "    \n",
    "    return true_positive, false_positive, true_negative, false_negative\n",
    "\n",
    "def roc_curve(y_true, y_score):\n",
    "    if len(y_true) is not len(y_score):\n",
    "        return\n",
    "    \n",
    "    FPRlist = []\n",
    "    TPRlist = []\n",
    "        \n",
    "    thresholds = [1, 0.9, 0.8, 0.7, 0.6, 0.5, 0.4, 0.3, 0.2, 0.1, 0.0]\n",
    "        \n",
    "    for threshold in thresholds:\n",
    "        threshold_TP = 0\n",
    "        threshold_FP = 0\n",
    "        threshold_TN = 0\n",
    "        threshold_FN = 0\n",
    "        \n",
    "        for score in y_score:\n",
    "            \n",
    "            if score >= threshold:\n",
    "                threshold_TP += 1\n",
    "            else:\n",
    "                threshold_FP += 1\n",
    "            if score >= threshold:\n",
    "                threshold_TN += 1\n",
    "            else:\n",
    "                thresold_FN += 1\n",
    "                \n",
    "        # check if TP > score and others\n",
    "        # generate a confusion matrix for each threshold, add the FPR/TPR for each threshold to list\n",
    "\n",
    "        performanceMatrix = [[TN,FP],[FN,FP]]\n",
    "        \n",
    "        TPR, FPR = rates(performanceMatrix)\n",
    "        FPRlist.append(FPR)\n",
    "        TPRlist.append(TPR)\n",
    "                         \n",
    "    return FPRlist, TPRlist\n",
    "\n",
    "import matplotlib.pyplot as plt\n",
    "    \n",
    "    #threshold = [1, 0.9, 0.8, 0.7, 0.6, 0.5, 0.4, 0.3, 0.2, 0.1, 0.0]\n",
    "    \n",
    "def plot_roc_curve(tpr, fpr):\n",
    "    plt.figure()\n",
    "    lw = 2\n",
    "    plt.plot(fpr, tpr, color='darkorange',\n",
    "         lw=lw, label='ROC curve') # (area = %0.2f)' % roc_auc[2])\n",
    "    plt.plot([0, 1], [0, 1], color='navy', lw=lw, linestyle='--')\n",
    "    plt.xlim([0.0, 1.0])\n",
    "    plt.ylim([0.0, 1.05])\n",
    "    plt.xlabel('False Positive Rate')\n",
    "    plt.ylabel('True Positive Rate')\n",
    "    plt.title('Receiver operating characteristic')\n",
    "    plt.legend(loc=\"lower right\")\n",
    "    plt.show()"
   ]
  },
  {
   "cell_type": "code",
   "execution_count": 5,
   "metadata": {},
   "outputs": [],
   "source": [
    "#y = [[1], [0], [0], [1], [1], [0], [0], [0], [1], [1], [0], [1], [1], [0], [1], [0], [0], [1], [0], [0], [1], [0], [1], [0], [1], [0], [0], [1], [0], [0], [1], [0], [1], [1], [1], [0], [1], [0], [0], [1], [1], [0], [1], [1], [1], [0], [0], [0], [1], [1], [0], [0], [1], [0], [1], [1], [1], [1], [0], [1], [1], [1], [0], [0], [0], [1], [0], [0], [1], [0], [0], [0], [0], [0], [0], [1], [0], [1], [1], [0], [0], [0], [1], [0], [1], [0], [0], [1], [1], [1], [0], [0], [0], [1], [1], [1], [1], [0], [1], [0], [1], [1], [0], [0], [0], [0], [1], [1], [0], [1], [1], [1], [0], [0], [1], [0], [1], [1], [0], [0], [1], [1], [0], [1], [1], [1], [0], [1], [1], [1], [0], [0], [0], [0], [1], [1], [1], [0], [0], [0], [1], [0], [1], [1], [1], [0], [0], [1], [0], [0], [0], [0], [0], [0], [1], [0], [1], [1], [0], [1]]\n",
    "# scores = ([0.1, 0.4, 0.35, 0.8,0.1, 0.4, 0.35, 0.8,0.6,0.5],[0.1, 0.4, 0.35, 0.8,0.1, 0.4, 0.35, 0.8,0.6,0.5])\n",
    "#scores = [0, 1, 0, 1, 1, 0, 1, 0, 1, 1, 1, 0, 1, 1, 1, 1, 0, 0, 0, 0, 0, 0, 1, 1, 1, 1, 1, 1, 0, 1, 1, 1, 1, 0, 1, 1, 0, 1, 1, 1, 1, 1, 1, 1, 1, 0, 1, 1, 0, 0, 0, 0, 1, 0, 0, 0, 1, 1, 1, 0, 0, 1, 1, 1, 1, 1, 0, 0, 1, 0, 0, 0, 1, 0, 0, 0, 0, 0, 1, 0, 0, 1, 0, 1, 1, 0, 1, 0, 1, 0, 1, 0, 1, 1, 1, 0, 1, 0, 1, 1, 1, 1, 1, 0, 0, 1, 0, 1, 0, 0, 1, 0, 1, 0, 1, 1, 0, 0, 1, 0, 1, 1, 0, 0, 1, 1, 1, 1, 0, 1, 0, 0, 0, 0, 1, 0, 1, 0, 0, 1, 1, 1, 0, 0, 1, 0, 0, 1, 0, 0, 0, 0, 0, 0, 1, 0, 0, 0, 0, 1]\n",
    "FPR, TPR = roc_curve(y, scores)\n",
    "print(FPR)\n",
    "print(TPR)\n",
    "plot_roc_curve(TPR, FPR)"
   ]
  },
  {
   "cell_type": "code",
   "execution_count": 19,
   "metadata": {},
   "outputs": [
    {
     "name": "stdout",
     "output_type": "stream",
     "text": [
      "(0.75, 0.2857142857142857)\n"
     ]
    }
   ],
   "source": [
    "# conf = confusion_matrix([1,1,0,1,0,0,1,0,0,0],[1,0,0,1,0,0,1,1,1,0])\n",
    "# roc_results = roc_curve(conf)\n",
    "# print(roc_results)\n",
    "# #plot_roc_curve(roc_results[0], roc_results[1])\n",
    "print(rates([[4, 2], [1, 3]]))"
   ]
  },
  {
   "cell_type": "markdown",
   "metadata": {},
   "source": [
    "11) Write a function to compute area under curve (AUC) for the ROC curve "
   ]
  },
  {
   "cell_type": "code",
   "execution_count": null,
   "metadata": {},
   "outputs": [],
   "source": [
    "def roc_auc(model, v1, v2):\n",
    "    \n",
    "    \n",
    "    return auc\n"
   ]
  },
  {
   "cell_type": "markdown",
   "metadata": {},
   "source": [
    "12) Write a function to generate the precision-recall curve"
   ]
  },
  {
   "cell_type": "code",
   "execution_count": null,
   "metadata": {},
   "outputs": [],
   "source": [
    "def precision_recall_curve(y_true, y_scores):\n",
    "    precision = precision_score(y_true, y_scores)\n",
    "    recall = recall_score(y_true, y_scores)\n",
    "    thresholds = \n",
    "    return \n",
    "\n",
    "# We can plot precision and recall as functions of the\n",
    "# threshold value."
   ]
  },
  {
   "cell_type": "markdown",
   "metadata": {},
   "source": [
    "13) Write a kNN model class"
   ]
  },
  {
   "cell_type": "markdown",
   "metadata": {},
   "source": [
    "a. fit() function: \n",
    "    1. No return value necessary\n",
    "    2. For kNN, this function simply needs to store the relevant values as instance variables\n",
    "    3. training_features is a numpy array with rows representing data samples and columns representing features\n",
    "    4. training_labels is a numpy array with labels corresponding to each row of training_features\n",
    "    5. k is the number of nearest neighbors\n",
    "    6. distance_f is an arbitrary distance function\n",
    "    7. kwargs is a dictionary of arguments to be passed to the distance function (this will not be used with our simple distance functions, but is important for more complex functions)\n",
    "        i. If you are not familiar, look up using the ** operator to unpack dictionaries as arguments\n",
    "b. predict() function:\n",
    "    1. Returns numpy array of kNN predictions for each row in test_features.\n",
    "    2. test_features is numpy array containing samples to be tested. Same format as training_features.\n",
    "    3. It will use the instance variables stored by the fit function to carry out kNN\n",
    "    4. 878 students (BONUS for 478): include the option to weight the solution by inverse distance (add an extra parameter to the function call for this)\n",
    "c. __init__() function:\n",
    "    1. Standard python initialization function so we can instantiate the class.\n",
    "    2. Doesn’t need to do anything in this case, can just ‘pass’"
   ]
  },
  {
   "cell_type": "code",
   "execution_count": 25,
   "metadata": {},
   "outputs": [],
   "source": [
    "#Reminder: there is no training in knn. X_test and y_test are \n",
    "#for cross validation\n",
    "'''\n",
    "def fit(X_train, y_train , p, k_value):\n",
    "    # Note: p = 1 is Manhattan, p = 2 is Euclidean\n",
    "    for i in y_train:\n",
    "        distances = []\n",
    "        for j in X_train:\n",
    "            if (p == 1):\n",
    "                dist = distManhattan(i, j, len(y_train)-1)\n",
    "            elif (p == 2):\n",
    "                dist = distEuclidean(y_train, X_train[x])\n",
    "        distances.append((X_train[x], dist))\n",
    "        knn = distances[:k_value]\n",
    "    #TODO: NOT FINISHED\n",
    "        #Note: find min dist\n",
    "        distances.sort(key = operator.itemgetter(1))\n",
    "'''\n",
    "\n",
    "class kNNModel:\n",
    "    \n",
    "    '''\n",
    "    Reminder: for a given data point we want to predict\n",
    "        1. Calculate distances between that point and all other points\n",
    "        2. Find nearest neighbours by ranking in increasing distance.\n",
    "        3. Vote on the predicted class labels based on teh classses of\n",
    "        the k nearest neighbours\n",
    "    '''\n",
    "    knn = []\n",
    "    \n",
    "    def fit(self,training_features,training_labels,k,distance_f,kwargs):\n",
    "        return \n",
    "    \n",
    "    def fit(self,training_features,training_labels,k,distance_f):\n",
    "        for i in training_labels:\n",
    "            distances = []\n",
    "            for j in training_features:\n",
    "                dist = distance_f(i,j)\n",
    "            distances.append(training_features[i], dist)\n",
    "            distances.sort(key = operator.itemgetter(1))\n",
    "            knn = distances[:k]\n",
    "        return \n",
    "\n",
    "    def predict(self,test_features):\n",
    "        #Calculate most frequent class in neighbors \n",
    "        votes = []\n",
    "        for i in range(len(knn)):\n",
    "            response = knn[i][-1]\n",
    "            if (response in votes):\n",
    "                votes[response] += 1\n",
    "            else:\n",
    "                votes[response] = 1\n",
    "        sortedVotes = sorted(votes.iteritems(), key=operator.itemgetter(1), reverse=True)\n",
    "\n",
    "        return sortedVotes[0][0]\n",
    "\n",
    "    def __init__(self):\n",
    "        pass \n",
    "\n"
   ]
  },
  {
   "cell_type": "markdown",
   "metadata": {},
   "source": [
    "# Part B: Data Processing"
   ]
  },
  {
   "cell_type": "markdown",
   "metadata": {},
   "source": [
    "14) Read in the ‘winequality-white.csv’ file as a pandas data frame"
   ]
  },
  {
   "cell_type": "code",
   "execution_count": 8,
   "metadata": {},
   "outputs": [
    {
     "name": "stdout",
     "output_type": "stream",
     "text": [
      "['fixed acidity', 'volatile acidity', 'citric acid', 'residual sugar', 'chlorides', 'free sulfur dioxide', 'total sulfur dioxide', 'density', 'pH', 'sulphates', 'alcohol', 'quality']\n"
     ]
    }
   ],
   "source": [
    "wineFile = 'winequality-white.csv'\n",
    "wineData = pd.read_csv(wineFile, delimiter=\";\")\n",
    "\n",
    "print(list(wineData.keys()))"
   ]
  },
  {
   "cell_type": "markdown",
   "metadata": {},
   "source": [
    "15) The target will be the ‘quality’ columnwhich represents rating of wine and ranges from 3 to 8. You will need to convert it into a two-category variable consisting of “good” (quality > 5) & “bad” (quality <= 5). Your target vector should have 0s (representing “bad” quality wine) and 1s (representing “good” quality wine)."
   ]
  },
  {
   "cell_type": "code",
   "execution_count": 9,
   "metadata": {},
   "outputs": [],
   "source": [
    "X = wineData\n",
    "\n",
    "# Target Vector\n",
    "y = (wineData[\"quality\"] > 5).astype(np.int) # 1 if > 5 ( = \"good\") , else 0 (= \"bad\")"
   ]
  },
  {
   "cell_type": "markdown",
   "metadata": {},
   "source": [
    "16) Use the techniques from the first recitation to summarize each of the variables in the dataset in terms of mean, standard deviation, and quartiles(3 pts)."
   ]
  },
  {
   "cell_type": "code",
   "execution_count": 10,
   "metadata": {},
   "outputs": [
    {
     "data": {
      "text/plain": [
       "pandas.core.frame.DataFrame"
      ]
     },
     "execution_count": 10,
     "metadata": {},
     "output_type": "execute_result"
    },
    {
     "data": {
      "image/png": "[encoded data removed]",
      "text/plain": [
       "<Figure size 1440x1080 with 12 Axes>"
      ]
     },
     "metadata": {
      "needs_background": "light"
     },
     "output_type": "display_data"
    }
   ],
   "source": [
    "import matplotlib.pyplot as plt\n",
    "%matplotlib inline\n",
    "\n",
    "wineData.hist(bins=50, figsize=(20,15))\n",
    "wineData.describe()\n",
    "\n",
    "#dataframe.toexcel"
   ]
  },
  {
   "cell_type": "markdown",
   "metadata": {},
   "source": [
    "17) Shuffle the rows of your data - we don’t want the order the data is imported in to affect our findings"
   ]
  },
  {
   "cell_type": "code",
   "execution_count": 19,
   "metadata": {},
   "outputs": [],
   "source": [
    "wineData = wineData.sample(frac=1)"
   ]
  },
  {
   "cell_type": "code",
   "execution_count": 20,
   "metadata": {},
   "outputs": [
    {
     "data": {
      "text/html": [
       "<div>\n",
       "<style scoped>\n",
       "    .dataframe tbody tr th:only-of-type {\n",
       "        vertical-align: middle;\n",
       "    }\n",
       "\n",
       "    .dataframe tbody tr th {\n",
       "        vertical-align: top;\n",
       "    }\n",
       "\n",
       "    .dataframe thead th {\n",
       "        text-align: right;\n",
       "    }\n",
       "</style>\n",
       "<table border=\"1\" class=\"dataframe\">\n",
       "  <thead>\n",
       "    <tr style=\"text-align: right;\">\n",
       "      <th></th>\n",
       "      <th>fixed acidity</th>\n",
       "      <th>volatile acidity</th>\n",
       "      <th>citric acid</th>\n",
       "      <th>residual sugar</th>\n",
       "      <th>chlorides</th>\n",
       "      <th>free sulfur dioxide</th>\n",
       "      <th>total sulfur dioxide</th>\n",
       "      <th>density</th>\n",
       "      <th>pH</th>\n",
       "      <th>sulphates</th>\n",
       "      <th>alcohol</th>\n",
       "      <th>quality</th>\n",
       "    </tr>\n",
       "  </thead>\n",
       "  <tbody>\n",
       "    <tr>\n",
       "      <th>2745</th>\n",
       "      <td>6.7</td>\n",
       "      <td>0.44</td>\n",
       "      <td>0.22</td>\n",
       "      <td>4.30</td>\n",
       "      <td>0.032</td>\n",
       "      <td>19.0</td>\n",
       "      <td>99.0</td>\n",
       "      <td>0.99015</td>\n",
       "      <td>3.26</td>\n",
       "      <td>0.53</td>\n",
       "      <td>12.8</td>\n",
       "      <td>7</td>\n",
       "    </tr>\n",
       "    <tr>\n",
       "      <th>3732</th>\n",
       "      <td>7.5</td>\n",
       "      <td>0.28</td>\n",
       "      <td>0.41</td>\n",
       "      <td>1.30</td>\n",
       "      <td>0.044</td>\n",
       "      <td>11.0</td>\n",
       "      <td>126.0</td>\n",
       "      <td>0.99293</td>\n",
       "      <td>3.28</td>\n",
       "      <td>0.45</td>\n",
       "      <td>10.3</td>\n",
       "      <td>5</td>\n",
       "    </tr>\n",
       "    <tr>\n",
       "      <th>1749</th>\n",
       "      <td>6.1</td>\n",
       "      <td>0.17</td>\n",
       "      <td>0.27</td>\n",
       "      <td>1.50</td>\n",
       "      <td>0.056</td>\n",
       "      <td>45.0</td>\n",
       "      <td>135.0</td>\n",
       "      <td>0.99240</td>\n",
       "      <td>3.20</td>\n",
       "      <td>0.43</td>\n",
       "      <td>10.2</td>\n",
       "      <td>6</td>\n",
       "    </tr>\n",
       "    <tr>\n",
       "      <th>1122</th>\n",
       "      <td>6.6</td>\n",
       "      <td>0.25</td>\n",
       "      <td>0.39</td>\n",
       "      <td>1.45</td>\n",
       "      <td>0.040</td>\n",
       "      <td>40.0</td>\n",
       "      <td>89.0</td>\n",
       "      <td>0.99110</td>\n",
       "      <td>3.35</td>\n",
       "      <td>0.40</td>\n",
       "      <td>11.4</td>\n",
       "      <td>7</td>\n",
       "    </tr>\n",
       "    <tr>\n",
       "      <th>1823</th>\n",
       "      <td>7.3</td>\n",
       "      <td>0.19</td>\n",
       "      <td>0.24</td>\n",
       "      <td>6.30</td>\n",
       "      <td>0.054</td>\n",
       "      <td>34.0</td>\n",
       "      <td>231.0</td>\n",
       "      <td>0.99640</td>\n",
       "      <td>3.36</td>\n",
       "      <td>0.54</td>\n",
       "      <td>10.0</td>\n",
       "      <td>6</td>\n",
       "    </tr>\n",
       "  </tbody>\n",
       "</table>\n",
       "</div>"
      ],
      "text/plain": [
       "      fixed acidity  volatile acidity  citric acid  residual sugar  chlorides  \\\n",
       "2745            6.7              0.44         0.22            4.30      0.032   \n",
       "3732            7.5              0.28         0.41            1.30      0.044   \n",
       "1749            6.1              0.17         0.27            1.50      0.056   \n",
       "1122            6.6              0.25         0.39            1.45      0.040   \n",
       "1823            7.3              0.19         0.24            6.30      0.054   \n",
       "\n",
       "      free sulfur dioxide  total sulfur dioxide  density    pH  sulphates  \\\n",
       "2745                 19.0                  99.0  0.99015  3.26       0.53   \n",
       "3732                 11.0                 126.0  0.99293  3.28       0.45   \n",
       "1749                 45.0                 135.0  0.99240  3.20       0.43   \n",
       "1122                 40.0                  89.0  0.99110  3.35       0.40   \n",
       "1823                 34.0                 231.0  0.99640  3.36       0.54   \n",
       "\n",
       "      alcohol  quality  \n",
       "2745     12.8        7  \n",
       "3732     10.3        5  \n",
       "1749     10.2        6  \n",
       "1122     11.4        7  \n",
       "1823     10.0        6  "
      ]
     },
     "execution_count": 20,
     "metadata": {},
     "output_type": "execute_result"
    }
   ],
   "source": [
    "wineData.head()"
   ]
  },
  {
   "cell_type": "markdown",
   "metadata": {},
   "source": [
    "18) Generate pair plots using the seaborn package (see first recitation notebook). You need to identify and report the redundant features."
   ]
  },
  {
   "cell_type": "code",
   "execution_count": null,
   "metadata": {},
   "outputs": [],
   "source": [
    "import seaborn as sns\n",
    "from scipy import stats\n",
    "\n",
    "# Calculate correlation coefficient\n",
    "def corrfunc(x, y, **kws):\n",
    "    r, _ = stats.pearsonr(x, y)\n",
    "    ax = plt.gca()\n",
    "    ax.annotate(\"r = {:.2f}\".format(r),\n",
    "                xy=(.1, .6), xycoords=ax.transAxes,\n",
    "               size = 24) \n",
    "\n",
    "cmap = sns.cubehelix_palette(light=1, dark = 0.1,\n",
    "                             hue = 0.5, as_cmap=True)\n",
    "\n",
    "sns.set_context(font_scale=2)\n",
    "\n",
    "# Pair grid set up\n",
    "g = sns.PairGrid(wineData)\n",
    "\n",
    "# Scatter plot on the upper triangle\n",
    "g.map_upper(plt.scatter, s=10, color = 'red')\n",
    "\n",
    "# Distribution on the diagonal\n",
    "g.map_diag(sns.distplot, kde=False, color = 'red')\n",
    "\n",
    "# Density Plot and Correlation coefficients on the lower triangle\n",
    "g.map_lower(sns.kdeplot, cmap = cmap)\n",
    "g.map_lower(corrfunc);\n"
   ]
  },
  {
   "cell_type": "markdown",
   "metadata": {},
   "source": [
    "19) Drop the redundant features "
   ]
  },
  {
   "cell_type": "code",
   "execution_count": 21,
   "metadata": {},
   "outputs": [
    {
     "name": "stdout",
     "output_type": "stream",
     "text": [
      "                      fixed acidity  volatile acidity  citric acid  \\\n",
      "fixed acidity              1.000000          0.022697     0.289181   \n",
      "volatile acidity           0.022697          1.000000     0.149472   \n",
      "citric acid                0.289181          0.149472     1.000000   \n",
      "residual sugar             0.089021          0.064286     0.094212   \n",
      "chlorides                  0.023086          0.070512     0.114364   \n",
      "free sulfur dioxide        0.049396          0.097012     0.094077   \n",
      "total sulfur dioxide       0.091070          0.089261     0.121131   \n",
      "density                    0.265331          0.027114     0.149503   \n",
      "pH                         0.425858          0.031915     0.163748   \n",
      "sulphates                  0.017143          0.035728     0.062331   \n",
      "alcohol                    0.120881          0.067718     0.075729   \n",
      "quality                    0.113663          0.194723     0.009209   \n",
      "\n",
      "                      residual sugar  chlorides  free sulfur dioxide  \\\n",
      "fixed acidity               0.089021   0.023086             0.049396   \n",
      "volatile acidity            0.064286   0.070512             0.097012   \n",
      "citric acid                 0.094212   0.114364             0.094077   \n",
      "residual sugar              1.000000   0.088685             0.299098   \n",
      "chlorides                   0.088685   1.000000             0.101392   \n",
      "free sulfur dioxide         0.299098   0.101392             1.000000   \n",
      "total sulfur dioxide        0.401439   0.198910             0.615501   \n",
      "density                     0.838966   0.257211             0.294210   \n",
      "pH                          0.194133   0.090439             0.000618   \n",
      "sulphates                   0.026664   0.016763             0.059217   \n",
      "alcohol                     0.450631   0.360189             0.250104   \n",
      "quality                     0.097577   0.209934             0.008158   \n",
      "\n",
      "                      total sulfur dioxide   density        pH  sulphates  \\\n",
      "fixed acidity                     0.091070  0.265331  0.425858   0.017143   \n",
      "volatile acidity                  0.089261  0.027114  0.031915   0.035728   \n",
      "citric acid                       0.121131  0.149503  0.163748   0.062331   \n",
      "residual sugar                    0.401439  0.838966  0.194133   0.026664   \n",
      "chlorides                         0.198910  0.257211  0.090439   0.016763   \n",
      "free sulfur dioxide               0.615501  0.294210  0.000618   0.059217   \n",
      "total sulfur dioxide              1.000000  0.529881  0.002321   0.134562   \n",
      "density                           0.529881  1.000000  0.093591   0.074493   \n",
      "pH                                0.002321  0.093591  1.000000   0.155951   \n",
      "sulphates                         0.134562  0.074493  0.155951   1.000000   \n",
      "alcohol                           0.448892  0.780138  0.121432   0.017433   \n",
      "quality                           0.174737  0.307123  0.099427   0.053678   \n",
      "\n",
      "                       alcohol   quality  \n",
      "fixed acidity         0.120881  0.113663  \n",
      "volatile acidity      0.067718  0.194723  \n",
      "citric acid           0.075729  0.009209  \n",
      "residual sugar        0.450631  0.097577  \n",
      "chlorides             0.360189  0.209934  \n",
      "free sulfur dioxide   0.250104  0.008158  \n",
      "total sulfur dioxide  0.448892  0.174737  \n",
      "density               0.780138  0.307123  \n",
      "pH                    0.121432  0.099427  \n",
      "sulphates             0.017433  0.053678  \n",
      "alcohol               1.000000  0.435575  \n",
      "quality               0.435575  1.000000  \n",
      "[('residual sugar', 'density'), ('density', 'alcohol')]\n"
     ]
    }
   ],
   "source": [
    "#wineData.corr()['quality'].sort_values(ascending=False)\n",
    "\n",
    "corr_matrix = wineData.corr().abs()\n",
    "high_corr_var=np.where(corr_matrix>0.7)\n",
    "high_corr_var=[(corr_matrix.index[x],corr_matrix.columns[y]) for x,y in zip(*high_corr_var) if x!=y and x<y]\n",
    "print(corr_matrix)\n",
    "print(high_corr_var)"
   ]
  },
  {
   "cell_type": "code",
   "execution_count": 22,
   "metadata": {},
   "outputs": [],
   "source": [
    "X = X.drop(columns=[\"density\"])"
   ]
  },
  {
   "cell_type": "markdown",
   "metadata": {},
   "source": [
    "20) Write a function named \"partition\" to split your data into train and test set. The function should take 3 arguments: feature matrix (numpy array with rows representing data samples and columns representing features.), target vector (numpy array with labels corresponding to each row of teh feature matrix), t. Here t is a real number to determine the size of partition. For example, if t is set to 0.2, then 80% of tehh data will be used for training and 20% for testing. This function should return two feature matrices for train and test data, and two target vectors for train test data. "
   ]
  },
  {
   "cell_type": "code",
   "execution_count": null,
   "metadata": {},
   "outputs": [],
   "source": [
    "def partition(X, y,t):\n",
    "    X = X.sample(frac=1)\n",
    "    y = y.sample(frac=1)\n",
    "    X_test = X[:int(t*len(X))]\n",
    "    y_test = y[:int(t*len(y))]\n",
    "    X_train = X[int(t*len(X)):]\n",
    "    y_train = y[int(t*len(y)):]\n",
    "    return X_train, y_train, X_test, y_test"
   ]
  },
  {
   "cell_type": "code",
   "execution_count": null,
   "metadata": {},
   "outputs": [],
   "source": [
    "X_train, X_test, y_train, y_test = partition(X, y, 0.2)"
   ]
  },
  {
   "cell_type": "code",
   "execution_count": null,
   "metadata": {},
   "outputs": [],
   "source": [
    "print(\"X size: \", len(X))\n",
    "print(\"X_train size: \", len(X_train))\n",
    "print(\"X_test size: \", len(X_test))\n",
    "print(\"y_train size: \", len(y_train))\n",
    "print(\"y_test size: \", len(y_test))"
   ]
  },
  {
   "cell_type": "markdown",
   "metadata": {},
   "source": [
    "21) Naively run your kNN model on the train dataset with k = 5 and using Euclidean distance. \n",
    "\n",
    "    a. Use accuracy and F1 score to compare your predictions to the expected labels\n",
    "    \n",
    "    b. Now standardize each feature of your training set (subtract mean and divide by standard deviation). Use the mean and standard deviation values for each feature in the training set to scale the test data.\n",
    "    \n",
    "    c. Return the kNN model on teh standardized data, find the accuracy and F1 score with the expected labels \n",
    "    \n",
    "    d. Compare the two accuracy values and the F1 scores; and decide whether you should use standardized data or unscaled data for the remainder of the assigment. "
   ]
  },
  {
   "cell_type": "markdown",
   "metadata": {},
   "source": [
    "# Part C: Model Evaluation"
   ]
  },
  {
   "cell_type": "markdown",
   "metadata": {},
   "source": [
    "22. Write the S-fold (aka k-Fold) cross-validation function:\n",
    "\n",
    "    a. sFold():\n",
    "    \n",
    "        i. folds in an integer number of folds. \n",
    "        \n",
    "        ii. data is a numpy array with rows representing data samples and columns representing features\n",
    "        \n",
    "        iii. labels is a numpy array with labels corresponding to each row of training_features\n",
    "        \n",
    "        iv. model is an object with teh fit and predict functions\n",
    "        \n",
    "        v. model args is a dictionary of arugments to pass to the classification algorithm \n",
    "        \n",
    "        vi. error_function:\n",
    "            \n",
    "            1. Returns error value between predicted and true labels. For example accuracy, generalization error, precision, recall, and F1 score could be used as error_function\n",
    "     \n",
    "     b. How it should work:\n",
    "          \n",
    "          i. Use a helper function to calculate an S-partition of the data (i.e., partition the data into S equally sized portions)\n",
    "          \n",
    "          ii. For each partition\n",
    "              \n",
    "             1. Make a model using the model class\n",
    "             \n",
    "             2. Fit the data to all other partitions (1 - folds) \n",
    "              \n",
    "             3. Classify on current partition\n",
    "              \n",
    "             4. Store expected labels and predicted labels for current partition\n",
    "          \n",
    "          iii. the average error (for all partitions) using the error_function on stored expected and predicted labels\n",
    "     \n",
    "     c. It should return:\n",
    "         \n",
    "         i. A Python dictionary with the following elements\n",
    "             \n",
    "             1. Expected labels\n",
    "             \n",
    "             2. Predicted labels\n",
    "             \n",
    "             3. Average error"
   ]
  },
  {
   "cell_type": "code",
   "execution_count": 2,
   "metadata": {},
   "outputs": [],
   "source": [
    "def sFold(folds, data, labels, model, model_args, error_function):\n",
    "    # use helper function to calculate S-partition of data, S equally sized portions\n",
    "    # for each partition, make a model using the model class\n",
    "    # model.makemodel\n",
    "    # fit the data to all other partitions (1-folds)\n",
    "    # classify on current partition\n",
    "    # store expected labels and predicted labels for current partition\n",
    "    # calculate average error for all partitions using the error_function\n",
    "    # return: expected labels, predicted labels, average error\n",
    "    #for fold in range(folds):\n",
    "    \n",
    "    \n",
    "    return\n",
    "    \n",
    "import numpy as np\n",
    "\n",
    "def partitionHelper(folds, data):\n",
    "    # partition data into S equally sized portions\n",
    "\n",
    "    return np.array_split(data, folds)"
   ]
  },
  {
   "cell_type": "code",
   "execution_count": 3,
   "metadata": {},
   "outputs": [
    {
     "name": "stdout",
     "output_type": "stream",
     "text": [
      "[array([1, 2, 3, 4]), array([5, 6, 7, 8])]\n"
     ]
    }
   ],
   "source": [
    "print(partitionHelper(2,[1,2,3,4,5,6,7,8]))"
   ]
  },
  {
   "cell_type": "markdown",
   "metadata": {},
   "source": [
    "23. Use your S-fold function to evaluate the performance of your model over each combination of k and distance metrics from the following sets: \n",
    "    \n",
    "    a. k = [1, 5, 9, 11]\n",
    "    \n",
    "    b. distance = [Euclidean, Manhattan]\n",
    "    \n",
    "    c. Store the returned dictionary for each. We will need these for the report\n",
    "    \n",
    "    d. Determine the best model based on the overall performance (lowest average error). For the error_function of the S-fold function argument use the F1 score function."
   ]
  },
  {
   "cell_type": "markdown",
   "metadata": {},
   "source": [
    "24. Evaluate your model on the test data and report the performance measures \n",
    "\n",
    "    a. Precision\n",
    "    \n",
    "    b. Recall \n",
    "    \n",
    "    c. F1 score\n",
    "    \n",
    "    d. Confusion matrix\n",
    "    \n",
    "    e. Accuracy "
   ]
  },
  {
   "cell_type": "code",
   "execution_count": null,
   "metadata": {},
   "outputs": [],
   "source": []
  }
 ],
 "metadata": {
  "kernelspec": {
   "display_name": "Python 3",
   "language": "python",
   "name": "python3"
  },
  "language_info": {
   "codemirror_mode": {
    "name": "ipython",
    "version": 3
   },
   "file_extension": ".py",
   "mimetype": "text/x-python",
   "name": "python",
   "nbconvert_exporter": "python",
   "pygments_lexer": "ipython3",
   "version": "3.6.5"
  }
 },
 "nbformat": 4,
 "nbformat_minor": 2
}
